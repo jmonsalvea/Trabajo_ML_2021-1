{
 "cells": [
  {
   "cell_type": "code",
   "execution_count": 1,
   "metadata": {},
   "outputs": [],
   "source": [
    "import pandas as pd\r\n",
    "import seaborn as sns\r\n",
    "import matplotlib.pylab as plt\r\n",
    "from scipy import stats\r\n",
    "from sklearn.preprocessing import LabelEncoder\r\n",
    "from sklearn.preprocessing import OneHotEncoder\r\n",
    "from sklearn.compose import ColumnTransformer\r\n",
    "from sklearn.preprocessing import StandardScaler\r\n",
    "import numpy as np\r\n",
    "pd.set_option('max_columns',None)"
   ]
  },
  {
   "cell_type": "markdown",
   "metadata": {},
   "source": [
    "# 1. DESCRIPCIÓN DEL DATASET\n",
    "\n",
    "## 1.1 Origen de los datos:\n",
    "* Los datos fueron extraidos de kaggle.com, disponibles en el siguiente enlace: [https://www.kaggle.com/fedesoriano/stroke-prediction-dataset]\n",
    "\n",
    "## 1.2 Contexto:\n",
    "* Los certificados de depósito a término definido (CDT) son una importante fuente de ingresos para un banco. Estos consisten en una inversión en efectivo que se mantiene en una institución financiera. El dinero se invierte a un tipo de interés acordado durante un periodo de tiempo fijo. Un banco tiene varios medios de difusión para vender este tipo de instrumento financiero a sus clientes, como el marketing por correo electrónico, los anuncios, el marketing telefónico y el marketing digital.\n",
    "\n",
    "* Las campañas de marketing telefónico siguen siendo una de las formas más eficaces de llegar al mercado objetivo. Sin embargo, requieren una gran inversión, ya que generalmente se terceriza el proceso de contacto, mediante grandes centros de llamadas para ejecutar las campañas. Por lo tanto, es crucial identificar de antemano a los clientes con más probabilidades de conversión para poder dirigirse específicamente a ellos mediante una llamada.\n",
    "\n",
    "* Los datos están relacionados con las campañas de marketing directo (llamadas telefónicas) de una entidad bancaria portuguesa. El objetivo de la clasificación es predecir si el cliente aceptará adquirir un CDT o no.\n",
    "\n",
    "## 1.3 Contenido: \n",
    "* Los datos están relacionados con las campañas de marketing directo de una institución bancaria portuguesa. Las campañas de marketing se basaban en llamadas telefónicas. A menudo, se requería más de un contacto con el mismo cliente, para dterminar si el producto (CDT) sería adquirido o no por el cliente. \n",
    "\n",
    "* El conjunto de datos está compuesto por dos subconjuntos:\n",
    "    * Conjunto de entrenamiento (train.csv).\n",
    "    * Conjunto de prueba (test.csv).\n",
    "\n",
    "| Variable  | Significado                                                                                                                                                | Tipo variable | Valores                                                                                                                                            |\n",
    "|-----------|------------------------------------------------------------------------------------------------------------------------------------------------------------|---------------|----------------------------------------------------------------------------------------------------------------------------------------------------|\n",
    "| age       | edad del cliente contactado                                                                                                                                | Numérico      |                                                                                                                                                    |\n",
    "| job       | tipo de trabajo del cliente                                                                                                                                | Categórico    | \"admin.\",\"unknown\",\"unemployed\",\"management\",\"housemaid\",\"entrepreneur\",\"student\", \"blue-collar\",\"self-employed\",\"retired\",\"technician\",\"services\" |\n",
    "| marital   | Estado civíl del cliente                                                                                                                                   | Categórico    | \"married\",\"divorced\",\"single\"; note: \"divorced\" means divorced or widowed                                                                          |\n",
    "| education | Nivel educativo del cliente                                                                                                                                | Categórico    | \"unknown\",\"secondary\",\"primary\",\"tertiary\"                                                                                                         |\n",
    "| default   | Flag si el cliente tiene crédito en mora                                                                                                                   | Binario       | \"yes\", \"no\"                                                                                                                                        |\n",
    "| balance   | Saldo promedio anual en la cuenta (euros)                                                                                                                  | Numérico      |                                                                                                                                                    |\n",
    "| Loan      | Flag si el cliente tiene algún prestamo                                                                                                                    | Binario       | \"yes\", \"no\"                                                                                                                                        |\n",
    "| housing   | Flag si el cliente tiene crédito de vivienda                                                                                                               | Binario       | \"yes\", \"no\"                                                                                                                                        |\n",
    "| contact   | Medio de contacto                                                                                                                                          | Categórico    | \"unknown\",\"telephone\",\"cellular\"                                                                                                                   |\n",
    "| day       | Día del mes en que recibió el último contacto                                                                                                              | Numérico      |                                                                                                                                                    |\n",
    "| month     | Mes en el cual recibió el último contacto                                                                                                                  | Categórico    | \"jan\", \"feb\", \"mar\", …, \"nov\", \"dec\"                                                                                                               |\n",
    "| duration  | Duración en segundos del último contacto                                                                                                                   | Numérico      |                                                                                                                                                    |\n",
    "| campaing  | Número de contactos que recibió el cliente para esta campaña. Incluido el último contacto                                                                  | Numérico      |                                                                                                                                                    |\n",
    "| pdays     | Número de días que han pasado desde la última vez que se contactó al cliente para otra campaña. -1 indica que el cliente no ha sido contactado previamente | Númerico      |                                                                                                                                                    |\n",
    "| previous  | Número de contactos realizados al cliente para esta campaña                                                                                                | Númerico      |                                                                                                                                                    |\n",
    "| poutcome  | Resultado de la última campaña                                                                                                                             | Categórico    | \"unknown\",\"other\",\"failure\",\"success\"                                                                                                              |\n",
    "| y         | Variable de respuesta sobre si el cliente acepta o no                                                                                                      | Binario       | \"yes\", \"no\"                                                                                                                                        |\n",
    "\n",
    "    \n",
    "\n"
   ]
  },
  {
   "cell_type": "markdown",
   "metadata": {},
   "source": [
    "## 1.4 Cantidad:\n",
    "* train.csv: 45.211 filas y 18 columnas ordenadas por fecha (de mayo de 2008 a noviembre de 2010)\n",
    "* test.csv: 4521 filas y 18 columnas con el 10% de los ejemplos (4521), seleccionados aleatoriamente de train.csv"
   ]
  },
  {
   "cell_type": "markdown",
   "metadata": {},
   "source": [
    "## 1.5 Distribución:\n",
    "Se mostrará la distribución de las variables del dataset"
   ]
  },
  {
   "cell_type": "markdown",
   "metadata": {},
   "source": [
    "Se hace la lectura de los datos y se almacena en la variable 'banking'"
   ]
  },
  {
   "cell_type": "code",
   "execution_count": 2,
   "metadata": {},
   "outputs": [],
   "source": [
    "banking = pd.read_csv(\"Banking/train.csv\", sep=\";\") #Las columnas se encuentran separadas por ;"
   ]
  },
  {
   "cell_type": "markdown",
   "metadata": {},
   "source": [
    "Se imprime el encabezado del dataset para tener un primer acercamiento a los datos"
   ]
  },
  {
   "cell_type": "code",
   "execution_count": 3,
   "metadata": {},
   "outputs": [
    {
     "data": {
      "text/html": [
       "<div>\n",
       "<style scoped>\n",
       "    .dataframe tbody tr th:only-of-type {\n",
       "        vertical-align: middle;\n",
       "    }\n",
       "\n",
       "    .dataframe tbody tr th {\n",
       "        vertical-align: top;\n",
       "    }\n",
       "\n",
       "    .dataframe thead th {\n",
       "        text-align: right;\n",
       "    }\n",
       "</style>\n",
       "<table border=\"1\" class=\"dataframe\">\n",
       "  <thead>\n",
       "    <tr style=\"text-align: right;\">\n",
       "      <th></th>\n",
       "      <th>age</th>\n",
       "      <th>job</th>\n",
       "      <th>marital</th>\n",
       "      <th>education</th>\n",
       "      <th>default</th>\n",
       "      <th>balance</th>\n",
       "      <th>housing</th>\n",
       "      <th>loan</th>\n",
       "      <th>contact</th>\n",
       "      <th>day</th>\n",
       "      <th>month</th>\n",
       "      <th>duration</th>\n",
       "      <th>campaign</th>\n",
       "      <th>pdays</th>\n",
       "      <th>previous</th>\n",
       "      <th>poutcome</th>\n",
       "      <th>y</th>\n",
       "    </tr>\n",
       "  </thead>\n",
       "  <tbody>\n",
       "    <tr>\n",
       "      <th>0</th>\n",
       "      <td>58</td>\n",
       "      <td>management</td>\n",
       "      <td>married</td>\n",
       "      <td>tertiary</td>\n",
       "      <td>no</td>\n",
       "      <td>2143</td>\n",
       "      <td>yes</td>\n",
       "      <td>no</td>\n",
       "      <td>unknown</td>\n",
       "      <td>5</td>\n",
       "      <td>may</td>\n",
       "      <td>261</td>\n",
       "      <td>1</td>\n",
       "      <td>-1</td>\n",
       "      <td>0</td>\n",
       "      <td>unknown</td>\n",
       "      <td>no</td>\n",
       "    </tr>\n",
       "    <tr>\n",
       "      <th>1</th>\n",
       "      <td>44</td>\n",
       "      <td>technician</td>\n",
       "      <td>single</td>\n",
       "      <td>secondary</td>\n",
       "      <td>no</td>\n",
       "      <td>29</td>\n",
       "      <td>yes</td>\n",
       "      <td>no</td>\n",
       "      <td>unknown</td>\n",
       "      <td>5</td>\n",
       "      <td>may</td>\n",
       "      <td>151</td>\n",
       "      <td>1</td>\n",
       "      <td>-1</td>\n",
       "      <td>0</td>\n",
       "      <td>unknown</td>\n",
       "      <td>no</td>\n",
       "    </tr>\n",
       "    <tr>\n",
       "      <th>2</th>\n",
       "      <td>33</td>\n",
       "      <td>entrepreneur</td>\n",
       "      <td>married</td>\n",
       "      <td>secondary</td>\n",
       "      <td>no</td>\n",
       "      <td>2</td>\n",
       "      <td>yes</td>\n",
       "      <td>yes</td>\n",
       "      <td>unknown</td>\n",
       "      <td>5</td>\n",
       "      <td>may</td>\n",
       "      <td>76</td>\n",
       "      <td>1</td>\n",
       "      <td>-1</td>\n",
       "      <td>0</td>\n",
       "      <td>unknown</td>\n",
       "      <td>no</td>\n",
       "    </tr>\n",
       "    <tr>\n",
       "      <th>3</th>\n",
       "      <td>47</td>\n",
       "      <td>blue-collar</td>\n",
       "      <td>married</td>\n",
       "      <td>unknown</td>\n",
       "      <td>no</td>\n",
       "      <td>1506</td>\n",
       "      <td>yes</td>\n",
       "      <td>no</td>\n",
       "      <td>unknown</td>\n",
       "      <td>5</td>\n",
       "      <td>may</td>\n",
       "      <td>92</td>\n",
       "      <td>1</td>\n",
       "      <td>-1</td>\n",
       "      <td>0</td>\n",
       "      <td>unknown</td>\n",
       "      <td>no</td>\n",
       "    </tr>\n",
       "    <tr>\n",
       "      <th>4</th>\n",
       "      <td>33</td>\n",
       "      <td>unknown</td>\n",
       "      <td>single</td>\n",
       "      <td>unknown</td>\n",
       "      <td>no</td>\n",
       "      <td>1</td>\n",
       "      <td>no</td>\n",
       "      <td>no</td>\n",
       "      <td>unknown</td>\n",
       "      <td>5</td>\n",
       "      <td>may</td>\n",
       "      <td>198</td>\n",
       "      <td>1</td>\n",
       "      <td>-1</td>\n",
       "      <td>0</td>\n",
       "      <td>unknown</td>\n",
       "      <td>no</td>\n",
       "    </tr>\n",
       "  </tbody>\n",
       "</table>\n",
       "</div>"
      ],
      "text/plain": [
       "   age           job  marital  education default  balance housing loan  \\\n",
       "0   58    management  married   tertiary      no     2143     yes   no   \n",
       "1   44    technician   single  secondary      no       29     yes   no   \n",
       "2   33  entrepreneur  married  secondary      no        2     yes  yes   \n",
       "3   47   blue-collar  married    unknown      no     1506     yes   no   \n",
       "4   33       unknown   single    unknown      no        1      no   no   \n",
       "\n",
       "   contact  day month  duration  campaign  pdays  previous poutcome   y  \n",
       "0  unknown    5   may       261         1     -1         0  unknown  no  \n",
       "1  unknown    5   may       151         1     -1         0  unknown  no  \n",
       "2  unknown    5   may        76         1     -1         0  unknown  no  \n",
       "3  unknown    5   may        92         1     -1         0  unknown  no  \n",
       "4  unknown    5   may       198         1     -1         0  unknown  no  "
      ]
     },
     "execution_count": 3,
     "metadata": {},
     "output_type": "execute_result"
    }
   ],
   "source": [
    "banking.head()"
   ]
  },
  {
   "cell_type": "markdown",
   "metadata": {},
   "source": [
    "### - AGE"
   ]
  },
  {
   "cell_type": "code",
   "execution_count": 4,
   "metadata": {},
   "outputs": [
    {
     "data": {
      "image/png": "[encoded data removed]",
      "text/plain": [
       "<Figure size 1440x648 with 1 Axes>"
      ]
     },
     "metadata": {
      "needs_background": "light"
     },
     "output_type": "display_data"
    }
   ],
   "source": [
    "plt.figure(figsize = (20, 9))\n",
    "sns.histplot(data = banking, x = 'age', bins = 10);"
   ]
  },
  {
   "cell_type": "markdown",
   "metadata": {},
   "source": [
    "### - JOB"
   ]
  },
  {
   "cell_type": "code",
   "execution_count": 5,
   "metadata": {},
   "outputs": [
    {
     "data": {
      "image/png": "[encoded data removed]",
      "text/plain": [
       "<Figure size 1440x648 with 1 Axes>"
      ]
     },
     "metadata": {
      "needs_background": "light"
     },
     "output_type": "display_data"
    }
   ],
   "source": [
    "plt.figure(figsize = (20, 9))\n",
    "sns.countplot(x = 'job', data = banking, order = banking['job'].value_counts().index, palette = 'inferno')\n",
    "plt.xticks(rotation = 45);"
   ]
  },
  {
   "cell_type": "markdown",
   "metadata": {},
   "source": [
    "### - MARITAL"
   ]
  },
  {
   "cell_type": "code",
   "execution_count": 6,
   "metadata": {},
   "outputs": [
    {
     "data": {
      "image/png": "[encoded data removed]",
      "text/plain": [
       "<Figure size 1440x648 with 1 Axes>"
      ]
     },
     "metadata": {
      "needs_background": "light"
     },
     "output_type": "display_data"
    }
   ],
   "source": [
    "plt.figure(figsize = (20, 9))\n",
    "sns.countplot(x = 'marital', data = banking, order = banking['marital'].value_counts().index, palette = 'inferno');"
   ]
  },
  {
   "cell_type": "markdown",
   "metadata": {},
   "source": [
    "### - EDUCATION"
   ]
  },
  {
   "cell_type": "code",
   "execution_count": 7,
   "metadata": {},
   "outputs": [
    {
     "data": {
      "image/png": "[encoded data removed]",
      "text/plain": [
       "<Figure size 1440x648 with 1 Axes>"
      ]
     },
     "metadata": {
      "needs_background": "light"
     },
     "output_type": "display_data"
    }
   ],
   "source": [
    "plt.figure(figsize = (20, 9))\n",
    "sns.countplot(x = 'education', data = banking, order = banking['education'].value_counts().index, palette = 'inferno');"
   ]
  },
  {
   "cell_type": "markdown",
   "metadata": {},
   "source": [
    "### - DEFAULT"
   ]
  },
  {
   "cell_type": "code",
   "execution_count": 8,
   "metadata": {},
   "outputs": [
    {
     "data": {
      "image/png": "[encoded data removed]",
      "text/plain": [
       "<Figure size 1440x648 with 1 Axes>"
      ]
     },
     "metadata": {
      "needs_background": "light"
     },
     "output_type": "display_data"
    }
   ],
   "source": [
    "plt.figure(figsize = (20, 9))\n",
    "sns.countplot(x = 'default', data = banking, order = banking['default'].value_counts().index, palette = 'inferno');"
   ]
  },
  {
   "cell_type": "markdown",
   "metadata": {},
   "source": [
    "### - BALANCE"
   ]
  },
  {
   "cell_type": "code",
   "execution_count": 9,
   "metadata": {},
   "outputs": [
    {
     "data": {
      "image/png": "[encoded data removed]",
      "text/plain": [
       "<Figure size 1440x648 with 1 Axes>"
      ]
     },
     "metadata": {
      "needs_background": "light"
     },
     "output_type": "display_data"
    }
   ],
   "source": [
    "plt.figure(figsize = (20, 9))\n",
    "sns.histplot(data = banking, x = 'balance', bins = 20);"
   ]
  },
  {
   "cell_type": "markdown",
   "metadata": {},
   "source": [
    "### - HOUSING"
   ]
  },
  {
   "cell_type": "code",
   "execution_count": 10,
   "metadata": {},
   "outputs": [
    {
     "data": {
      "image/png": "[encoded data removed]",
      "text/plain": [
       "<Figure size 1440x648 with 1 Axes>"
      ]
     },
     "metadata": {
      "needs_background": "light"
     },
     "output_type": "display_data"
    }
   ],
   "source": [
    "plt.figure(figsize = (20, 9))\n",
    "sns.countplot(x = 'housing', data = banking, order = banking['housing'].value_counts().index, palette = 'inferno');"
   ]
  },
  {
   "cell_type": "markdown",
   "metadata": {},
   "source": [
    "### - LOAN"
   ]
  },
  {
   "cell_type": "code",
   "execution_count": 11,
   "metadata": {},
   "outputs": [
    {
     "data": {
      "image/png": "[encoded data removed]",
      "text/plain": [
       "<Figure size 1440x648 with 1 Axes>"
      ]
     },
     "metadata": {
      "needs_background": "light"
     },
     "output_type": "display_data"
    }
   ],
   "source": [
    "plt.figure(figsize = (20, 9))\n",
    "sns.countplot(x = 'loan', data = banking, order = banking['loan'].value_counts().index, palette = 'inferno');"
   ]
  },
  {
   "cell_type": "markdown",
   "metadata": {},
   "source": [
    "### - CONTACT"
   ]
  },
  {
   "cell_type": "code",
   "execution_count": 12,
   "metadata": {},
   "outputs": [
    {
     "data": {
      "image/png": "[encoded data removed]",
      "text/plain": [
       "<Figure size 1440x648 with 1 Axes>"
      ]
     },
     "metadata": {
      "needs_background": "light"
     },
     "output_type": "display_data"
    }
   ],
   "source": [
    "plt.figure(figsize = (20, 9))\n",
    "sns.countplot(x = 'contact', data = banking, order = banking['contact'].value_counts().index, palette = 'inferno');"
   ]
  },
  {
   "cell_type": "markdown",
   "metadata": {},
   "source": [
    "### - DAY"
   ]
  },
  {
   "cell_type": "code",
   "execution_count": 13,
   "metadata": {},
   "outputs": [
    {
     "data": {
      "image/png": "[encoded data removed]",
      "text/plain": [
       "<Figure size 1440x648 with 1 Axes>"
      ]
     },
     "metadata": {
      "needs_background": "light"
     },
     "output_type": "display_data"
    }
   ],
   "source": [
    "plt.figure(figsize = (20, 9))\n",
    "sns.countplot(x = 'day', data = banking, order = banking['day'].value_counts().index, palette = 'inferno');"
   ]
  },
  {
   "cell_type": "markdown",
   "metadata": {},
   "source": [
    "### - MONTH"
   ]
  },
  {
   "cell_type": "code",
   "execution_count": 14,
   "metadata": {},
   "outputs": [
    {
     "data": {
      "image/png": "[encoded data removed]",
      "text/plain": [
       "<Figure size 1440x648 with 1 Axes>"
      ]
     },
     "metadata": {
      "needs_background": "light"
     },
     "output_type": "display_data"
    }
   ],
   "source": [
    "plt.figure(figsize = (20, 9))\n",
    "sns.countplot(x = 'month', data = banking, order = banking['month'].value_counts().index, palette = 'inferno');"
   ]
  },
  {
   "cell_type": "markdown",
   "metadata": {},
   "source": [
    "### - DURATION"
   ]
  },
  {
   "cell_type": "code",
   "execution_count": 15,
   "metadata": {},
   "outputs": [
    {
     "data": {
      "image/png": "[encoded data removed]",
      "text/plain": [
       "<Figure size 1440x648 with 1 Axes>"
      ]
     },
     "metadata": {
      "needs_background": "light"
     },
     "output_type": "display_data"
    }
   ],
   "source": [
    "plt.figure(figsize = (20, 9))\n",
    "sns.histplot(data = banking, x = 'duration', bins = 20);"
   ]
  },
  {
   "cell_type": "markdown",
   "metadata": {},
   "source": [
    "### - CAMPAIGN"
   ]
  },
  {
   "cell_type": "code",
   "execution_count": 16,
   "metadata": {},
   "outputs": [
    {
     "data": {
      "image/png": "[encoded data removed]",
      "text/plain": [
       "<Figure size 1440x648 with 1 Axes>"
      ]
     },
     "metadata": {
      "needs_background": "light"
     },
     "output_type": "display_data"
    }
   ],
   "source": [
    "plt.figure(figsize = (20, 9))\n",
    "sns.histplot(data = banking, x = 'campaign', bins = 15);"
   ]
  },
  {
   "cell_type": "markdown",
   "metadata": {},
   "source": [
    "### - PDAYS"
   ]
  },
  {
   "cell_type": "code",
   "execution_count": 17,
   "metadata": {},
   "outputs": [
    {
     "data": {
      "image/png": "[encoded data removed]",
      "text/plain": [
       "<Figure size 1440x648 with 1 Axes>"
      ]
     },
     "metadata": {
      "needs_background": "light"
     },
     "output_type": "display_data"
    }
   ],
   "source": [
    "plt.figure(figsize = (20, 9))\n",
    "sns.histplot(data = banking, x = 'pdays', bins = 15);"
   ]
  },
  {
   "cell_type": "markdown",
   "metadata": {},
   "source": [
    "### - PREVIOUS"
   ]
  },
  {
   "cell_type": "code",
   "execution_count": 18,
   "metadata": {},
   "outputs": [
    {
     "data": {
      "image/png": "[encoded data removed]",
      "text/plain": [
       "<Figure size 1440x648 with 1 Axes>"
      ]
     },
     "metadata": {
      "needs_background": "light"
     },
     "output_type": "display_data"
    }
   ],
   "source": [
    "plt.figure(figsize = (20, 9))\n",
    "sns.countplot(x = 'previous', data = banking, order = banking['previous'].value_counts().index, palette = 'inferno');"
   ]
  },
  {
   "cell_type": "markdown",
   "metadata": {},
   "source": [
    "### - POUTCOME"
   ]
  },
  {
   "cell_type": "code",
   "execution_count": 19,
   "metadata": {},
   "outputs": [
    {
     "data": {
      "image/png": "[encoded data removed]",
      "text/plain": [
       "<Figure size 1440x648 with 1 Axes>"
      ]
     },
     "metadata": {
      "needs_background": "light"
     },
     "output_type": "display_data"
    }
   ],
   "source": [
    "plt.figure(figsize = (20, 9))\n",
    "sns.countplot(x = 'poutcome', data = banking, order = banking['poutcome'].value_counts().index, palette = 'inferno');"
   ]
  },
  {
   "cell_type": "markdown",
   "metadata": {},
   "source": [
    "### - Y (OUTPUT VARIABLE)"
   ]
  },
  {
   "cell_type": "code",
   "execution_count": 20,
   "metadata": {},
   "outputs": [
    {
     "data": {
      "image/png": "[encoded data removed]",
      "text/plain": [
       "<Figure size 1440x648 with 1 Axes>"
      ]
     },
     "metadata": {
      "needs_background": "light"
     },
     "output_type": "display_data"
    }
   ],
   "source": [
    "plt.figure(figsize = (20, 9))\n",
    "sns.countplot(x = 'y', data = banking, order = banking['y'].value_counts().index, palette = 'inferno');"
   ]
  },
  {
   "cell_type": "markdown",
   "metadata": {},
   "source": [
    "## 1.6 Limitantes y supuestos\n",
    "\n",
    "El principal limitante que se tiene con los datos, es la ausencia de una persona especializada en el negocio, que pueda ampliar el contexto de los datos. Dado esto, será necesario asumir el significado de ciertos valores faltantes, dejándolo a libre interpretación del equipo de trabajo.\n",
    "\n",
    "Conociendo la naturaleza de las variables poutcome y pdays, se puede inferir que los registros que tienen un valor de poutcome igual a 'unknown' son aquellos que no han sido contactados en campañas previas, es decir, aquellos cuyo valor de pdays es igual a '-1'.\n",
    "\n",
    "\n"
   ]
  },
  {
   "cell_type": "code",
   "execution_count": 21,
   "metadata": {},
   "outputs": [
    {
     "data": {
      "text/plain": [
       "unknown    36959\n",
       "failure     4901\n",
       "other       1840\n",
       "success     1511\n",
       "Name: poutcome, dtype: int64"
      ]
     },
     "execution_count": 21,
     "metadata": {},
     "output_type": "execute_result"
    }
   ],
   "source": [
    "banking.poutcome.value_counts()"
   ]
  },
  {
   "cell_type": "code",
   "execution_count": 22,
   "metadata": {},
   "outputs": [
    {
     "data": {
      "text/plain": [
       "-1      36954\n",
       " 182      167\n",
       " 92       147\n",
       " 183      126\n",
       " 91       126\n",
       "        ...  \n",
       " 749        1\n",
       " 717        1\n",
       " 589        1\n",
       " 493        1\n",
       " 32         1\n",
       "Name: pdays, Length: 559, dtype: int64"
      ]
     },
     "execution_count": 22,
     "metadata": {},
     "output_type": "execute_result"
    }
   ],
   "source": [
    "banking.pdays.value_counts()"
   ]
  },
  {
   "cell_type": "markdown",
   "metadata": {},
   "source": [
    "# 2. Metodología:"
   ]
  },
  {
   "cell_type": "markdown",
   "metadata": {},
   "source": [
    "## 2.1 Análisis multivariado\n",
    "\n"
   ]
  },
  {
   "cell_type": "code",
   "execution_count": 23,
   "metadata": {},
   "outputs": [
    {
     "name": "stdout",
     "output_type": "stream",
     "text": [
      "<class 'pandas.core.frame.DataFrame'>\n",
      "RangeIndex: 45211 entries, 0 to 45210\n",
      "Data columns (total 17 columns):\n",
      " #   Column     Non-Null Count  Dtype \n",
      "---  ------     --------------  ----- \n",
      " 0   age        45211 non-null  int64 \n",
      " 1   job        45211 non-null  object\n",
      " 2   marital    45211 non-null  object\n",
      " 3   education  45211 non-null  object\n",
      " 4   default    45211 non-null  object\n",
      " 5   balance    45211 non-null  int64 \n",
      " 6   housing    45211 non-null  object\n",
      " 7   loan       45211 non-null  object\n",
      " 8   contact    45211 non-null  object\n",
      " 9   day        45211 non-null  int64 \n",
      " 10  month      45211 non-null  object\n",
      " 11  duration   45211 non-null  int64 \n",
      " 12  campaign   45211 non-null  int64 \n",
      " 13  pdays      45211 non-null  int64 \n",
      " 14  previous   45211 non-null  int64 \n",
      " 15  poutcome   45211 non-null  object\n",
      " 16  y          45211 non-null  object\n",
      "dtypes: int64(7), object(10)\n",
      "memory usage: 5.9+ MB\n"
     ]
    }
   ],
   "source": [
    "banking.info()"
   ]
  },
  {
   "cell_type": "code",
   "execution_count": 24,
   "metadata": {},
   "outputs": [],
   "source": [
    "# from sklearn.preprocessing import LabelEncoder\n",
    "\n",
    "# banking_copy = banking.copy()\n",
    "\n",
    "# #Se obtiene la lista de atributos categóricos\n",
    "# categories = [c for c in banking_copy.columns if banking_copy[c].dtypes =='object']\n",
    "\n",
    "# #Por cada atributo categórico entrene un codificador y transforme el atributo con base en ese codificador\n",
    "# for c in categories:\n",
    "#     le = LabelEncoder()\n",
    "#     le.fit(list(df_train[c].astype('str')))\n",
    "#     df_train[c] = le.transform(list(df_train[c].astype(str))) \n",
    "\n",
    "# #Muestre la información del conjunto de datos tras la transformación\n",
    "# df_train.info()"
   ]
  },
  {
   "cell_type": "code",
   "execution_count": 25,
   "metadata": {},
   "outputs": [
    {
     "data": {
      "text/plain": [
       "array(['may', 'jun', 'jul', 'aug', 'oct', 'nov', 'dec', 'jan', 'feb',\n",
       "       'mar', 'apr', 'sep'], dtype=object)"
      ]
     },
     "execution_count": 25,
     "metadata": {},
     "output_type": "execute_result"
    }
   ],
   "source": [
    "banking['month'].unique()"
   ]
  },
  {
   "cell_type": "code",
   "execution_count": 26,
   "metadata": {},
   "outputs": [],
   "source": [
    "month_type = pd.api.types.CategoricalDtype(categories = ['jan', 'feb', 'mar', 'apr', 'may', 'jun', 'jul', 'aug', 'sep', 'oct', 'nov', 'dec'], ordered=True)\r\n",
    "banking.month = banking.month.astype(month_type)\r\n"
   ]
  },
  {
   "cell_type": "code",
   "execution_count": 27,
   "metadata": {},
   "outputs": [],
   "source": [
    "banking['month_code'] = banking['month'].cat.codes"
   ]
  },
  {
   "cell_type": "code",
   "execution_count": 28,
   "metadata": {},
   "outputs": [
    {
     "data": {
      "text/html": [
       "<div>\n",
       "<style scoped>\n",
       "    .dataframe tbody tr th:only-of-type {\n",
       "        vertical-align: middle;\n",
       "    }\n",
       "\n",
       "    .dataframe tbody tr th {\n",
       "        vertical-align: top;\n",
       "    }\n",
       "\n",
       "    .dataframe thead th {\n",
       "        text-align: right;\n",
       "    }\n",
       "</style>\n",
       "<table border=\"1\" class=\"dataframe\">\n",
       "  <thead>\n",
       "    <tr style=\"text-align: right;\">\n",
       "      <th></th>\n",
       "      <th>age</th>\n",
       "      <th>job</th>\n",
       "      <th>marital</th>\n",
       "      <th>education</th>\n",
       "      <th>default</th>\n",
       "      <th>balance</th>\n",
       "      <th>housing</th>\n",
       "      <th>loan</th>\n",
       "      <th>contact</th>\n",
       "      <th>day</th>\n",
       "      <th>month</th>\n",
       "      <th>duration</th>\n",
       "      <th>campaign</th>\n",
       "      <th>pdays</th>\n",
       "      <th>previous</th>\n",
       "      <th>poutcome</th>\n",
       "      <th>y</th>\n",
       "      <th>month_code</th>\n",
       "    </tr>\n",
       "  </thead>\n",
       "  <tbody>\n",
       "    <tr>\n",
       "      <th>0</th>\n",
       "      <td>58</td>\n",
       "      <td>management</td>\n",
       "      <td>married</td>\n",
       "      <td>tertiary</td>\n",
       "      <td>no</td>\n",
       "      <td>2143</td>\n",
       "      <td>yes</td>\n",
       "      <td>no</td>\n",
       "      <td>unknown</td>\n",
       "      <td>5</td>\n",
       "      <td>may</td>\n",
       "      <td>261</td>\n",
       "      <td>1</td>\n",
       "      <td>-1</td>\n",
       "      <td>0</td>\n",
       "      <td>unknown</td>\n",
       "      <td>no</td>\n",
       "      <td>4</td>\n",
       "    </tr>\n",
       "    <tr>\n",
       "      <th>1</th>\n",
       "      <td>44</td>\n",
       "      <td>technician</td>\n",
       "      <td>single</td>\n",
       "      <td>secondary</td>\n",
       "      <td>no</td>\n",
       "      <td>29</td>\n",
       "      <td>yes</td>\n",
       "      <td>no</td>\n",
       "      <td>unknown</td>\n",
       "      <td>5</td>\n",
       "      <td>may</td>\n",
       "      <td>151</td>\n",
       "      <td>1</td>\n",
       "      <td>-1</td>\n",
       "      <td>0</td>\n",
       "      <td>unknown</td>\n",
       "      <td>no</td>\n",
       "      <td>4</td>\n",
       "    </tr>\n",
       "    <tr>\n",
       "      <th>2</th>\n",
       "      <td>33</td>\n",
       "      <td>entrepreneur</td>\n",
       "      <td>married</td>\n",
       "      <td>secondary</td>\n",
       "      <td>no</td>\n",
       "      <td>2</td>\n",
       "      <td>yes</td>\n",
       "      <td>yes</td>\n",
       "      <td>unknown</td>\n",
       "      <td>5</td>\n",
       "      <td>may</td>\n",
       "      <td>76</td>\n",
       "      <td>1</td>\n",
       "      <td>-1</td>\n",
       "      <td>0</td>\n",
       "      <td>unknown</td>\n",
       "      <td>no</td>\n",
       "      <td>4</td>\n",
       "    </tr>\n",
       "    <tr>\n",
       "      <th>3</th>\n",
       "      <td>47</td>\n",
       "      <td>blue-collar</td>\n",
       "      <td>married</td>\n",
       "      <td>unknown</td>\n",
       "      <td>no</td>\n",
       "      <td>1506</td>\n",
       "      <td>yes</td>\n",
       "      <td>no</td>\n",
       "      <td>unknown</td>\n",
       "      <td>5</td>\n",
       "      <td>may</td>\n",
       "      <td>92</td>\n",
       "      <td>1</td>\n",
       "      <td>-1</td>\n",
       "      <td>0</td>\n",
       "      <td>unknown</td>\n",
       "      <td>no</td>\n",
       "      <td>4</td>\n",
       "    </tr>\n",
       "    <tr>\n",
       "      <th>4</th>\n",
       "      <td>33</td>\n",
       "      <td>unknown</td>\n",
       "      <td>single</td>\n",
       "      <td>unknown</td>\n",
       "      <td>no</td>\n",
       "      <td>1</td>\n",
       "      <td>no</td>\n",
       "      <td>no</td>\n",
       "      <td>unknown</td>\n",
       "      <td>5</td>\n",
       "      <td>may</td>\n",
       "      <td>198</td>\n",
       "      <td>1</td>\n",
       "      <td>-1</td>\n",
       "      <td>0</td>\n",
       "      <td>unknown</td>\n",
       "      <td>no</td>\n",
       "      <td>4</td>\n",
       "    </tr>\n",
       "  </tbody>\n",
       "</table>\n",
       "</div>"
      ],
      "text/plain": [
       "   age           job  marital  education default  balance housing loan  \\\n",
       "0   58    management  married   tertiary      no     2143     yes   no   \n",
       "1   44    technician   single  secondary      no       29     yes   no   \n",
       "2   33  entrepreneur  married  secondary      no        2     yes  yes   \n",
       "3   47   blue-collar  married    unknown      no     1506     yes   no   \n",
       "4   33       unknown   single    unknown      no        1      no   no   \n",
       "\n",
       "   contact  day month  duration  campaign  pdays  previous poutcome   y  \\\n",
       "0  unknown    5   may       261         1     -1         0  unknown  no   \n",
       "1  unknown    5   may       151         1     -1         0  unknown  no   \n",
       "2  unknown    5   may        76         1     -1         0  unknown  no   \n",
       "3  unknown    5   may        92         1     -1         0  unknown  no   \n",
       "4  unknown    5   may       198         1     -1         0  unknown  no   \n",
       "\n",
       "   month_code  \n",
       "0           4  \n",
       "1           4  \n",
       "2           4  \n",
       "3           4  \n",
       "4           4  "
      ]
     },
     "execution_count": 28,
     "metadata": {},
     "output_type": "execute_result"
    }
   ],
   "source": [
    "banking.head()"
   ]
  },
  {
   "cell_type": "markdown",
   "metadata": {},
   "source": [
    "### 2.1.1 Análisis de independencia con Test Chi2\n",
    "\n",
    "A continuación, se realiza el estudio de independencia entre las diferentes variables categóricas, con respecto a la variable de respuesta 'y'. Para esto se usará un test chi2 aplicado a las tablas de contigencia, el cual empieza calculando las frecuencias esperadas para los grupos y luego determina si la división de los grupos, llamado frecuencia observada, coincide con las frecuencias esperadas. \n",
    "\n",
    "Este test tiene el siguiente juego de hipótesis:\n",
    "\n",
    "- Hipótesis Nula H0: Las frecuencias observadas para una variable categórica coinciden con la frecuencia esperada para la variable categórica.\n",
    "- Hipótesis Alternativa HA: Las frecuencias observadas para una variable categórica no coinciden con la frecuencia esperada para la variable categórica.\n",
    "\n",
    "Las variables son consideradas independientes si las frencuencias observadas y esperadas son similares, es decir, se consideran independientes si los niveles de las variables no interactúan entre sí. De esta forma, se puede reformular el juego de hipótesis de la siguiente forma:\n",
    "\n",
    "- Hipótesis Nula H0: Las variables son independientes.\n",
    "- Hipótesis Alternativa HA: Las variables no son independientes, son dependientes.\n",
    "\n",
    "Para concluir sobre el resultado del test, se trabaja con una confianza del 95%. Así, si el valor-p <= 0.05, se rechaza H0."
   ]
  },
  {
   "cell_type": "code",
   "execution_count": 29,
   "metadata": {},
   "outputs": [],
   "source": [
    "#En esta función se obtiene la tabla de contigencia, se realiza el test chi2 y se retorna la decisión dadadas dos variables categóricas\n",
    "def test_chi2(dataset, col1, col2):\n",
    "    ct = pd.crosstab(dataset[col1], dataset[col2])\n",
    "    ct_normalized = pd.crosstab(dataset[col1], dataset[col2], normalize=True)\n",
    "    (stat, pvalue, dof, _) = stats.chi2_contingency(ct)\n",
    "    if pvalue <= 0.05:\n",
    "        print('H0 es rechazado: \\'{}\\' y \\'{}\\' son dependientes, con un valor-p de {}'.format(col1, col2, pvalue))\n",
    "    else:\n",
    "        print('No se rechaza H0: \\'{}\\' y \\'{}\\' son independientes, con un valor-p de {}'.format(col1, col2, pvalue))\n",
    "\n",
    "    return ct_normalized.plot.barh(stacked=True, title = 'Tabla de contingencia normalizada \\'{}\\' vs \\'{}\\''.format(col1, col2))"
   ]
  },
  {
   "cell_type": "code",
   "execution_count": 30,
   "metadata": {},
   "outputs": [
    {
     "name": "stdout",
     "output_type": "stream",
     "text": [
      "H0 es rechazado: 'job' y 'y' son dependientes, con un valor-p de 3.337121944935502e-172\n",
      "H0 es rechazado: 'marital' y 'y' son dependientes, con un valor-p de 2.1450999986791792e-43\n",
      "H0 es rechazado: 'education' y 'y' son dependientes, con un valor-p de 1.6266562124072994e-51\n",
      "H0 es rechazado: 'default' y 'y' son dependientes, con un valor-p de 2.4538606753508344e-06\n",
      "H0 es rechazado: 'housing' y 'y' son dependientes, con un valor-p de 2.918797605076633e-192\n",
      "H0 es rechazado: 'loan' y 'y' son dependientes, con un valor-p de 1.665061163492756e-47\n",
      "H0 es rechazado: 'contact' y 'y' son dependientes, con un valor-p de 1.251738325340638e-225\n",
      "H0 es rechazado: 'poutcome' y 'y' son dependientes, con un valor-p de 0.0\n"
     ]
    },
    {
     "data": {
      "image/png": "[encoded data removed]",
      "text/plain": [
       "<Figure size 432x288 with 1 Axes>"
      ]
     },
     "metadata": {
      "needs_background": "light"
     },
     "output_type": "display_data"
    },
    {
     "data": {
      "image/png": "[encoded data removed]",
      "text/plain": [
       "<Figure size 432x288 with 1 Axes>"
      ]
     },
     "metadata": {
      "needs_background": "light"
     },
     "output_type": "display_data"
    },
    {
     "data": {
      "image/png": "[encoded data removed]",
      "text/plain": [
       "<Figure size 432x288 with 1 Axes>"
      ]
     },
     "metadata": {
      "needs_background": "light"
     },
     "output_type": "display_data"
    },
    {
     "data": {
      "image/png": "[encoded data removed]",
      "text/plain": [
       "<Figure size 432x288 with 1 Axes>"
      ]
     },
     "metadata": {
      "needs_background": "light"
     },
     "output_type": "display_data"
    },
    {
     "data": {
      "image/png": "[encoded data removed]",
      "text/plain": [
       "<Figure size 432x288 with 1 Axes>"
      ]
     },
     "metadata": {
      "needs_background": "light"
     },
     "output_type": "display_data"
    },
    {
     "data": {
      "image/png": "[encoded data removed]",
      "text/plain": [
       "<Figure size 432x288 with 1 Axes>"
      ]
     },
     "metadata": {
      "needs_background": "light"
     },
     "output_type": "display_data"
    },
    {
     "data": {
      "image/png": "[encoded data removed]",
      "text/plain": [
       "<Figure size 432x288 with 1 Axes>"
      ]
     },
     "metadata": {
      "needs_background": "light"
     },
     "output_type": "display_data"
    },
    {
     "data": {
      "image/png": "[encoded data removed]",
      "text/plain": [
       "<Figure size 432x288 with 1 Axes>"
      ]
     },
     "metadata": {
      "needs_background": "light"
     },
     "output_type": "display_data"
    }
   ],
   "source": [
    "#Se aplica el test chi2 de las variables categóricas versus la variable de respuesta y\n",
    "object_columns = banking.select_dtypes('object').drop(columns = 'y').columns\n",
    "for column in object_columns:\n",
    "    test_chi2(banking, column, 'y')"
   ]
  },
  {
   "cell_type": "markdown",
   "metadata": {},
   "source": [
    "Según los resultados obtenidos del test chi2, se puede inferir que todas las variables categóricas son dependientes a la variable respuesta y, por tanto se pueden considerar como buenas candidatas a variables explicativas para el modelo."
   ]
  },
  {
   "cell_type": "markdown",
   "metadata": {},
   "source": [
    "### 2.1.1 Análisis de independencia con Test Kolmogorov-Smirnov\n",
    "\n",
    "A continuación, se realiza un análisis que permite identificar si dos muestras provienen de una misma distribución o no. Lo que se busca es determinar si para una variable numérica, la muestra de personas que aceptaron la oferta (variable y = yes) y la muestra de personas que no aceptaron la oferta (variable y = no) provienen de la misma distribución. Con esto, se trata de tener indicios sobre si hay variables que logran mostrar diferenciación entre el grupo que acepta y no acepta. Este test es llamado el Kolmogorov smirnov para 2 muestras.\n",
    "\n",
    "En esta prueba, se ponen a prueba las siguientes hipótesis:\n",
    "\n",
    "- Hipótesis Nula H0: Las muestras provienen de la misma distribución\n",
    "- Hipótesis Alternativa HA: Las muestras no provienen de la misma distribución\n",
    "\n",
    "Para concluir sobre el resultado del test, se trabaja con una confianza del 95%. Así, si el valor-p <= 0.05, se rechaza H0."
   ]
  },
  {
   "cell_type": "code",
   "execution_count": 31,
   "metadata": {},
   "outputs": [],
   "source": [
    "def test_ks(dataset, col1):\n",
    "    col_yes = dataset[dataset['y'] == 'yes'][col1]\n",
    "    col_no = dataset[dataset['y'] == 'no'][col1]\n",
    "    (_, pvalue) = stats.ks_2samp(col_yes, col_no)\n",
    "\n",
    "    if pvalue <= 0.05:\n",
    "        print('H0 es rechazado: para la variable \\'{}\\', ambas muestras no pertenecen a la misma distribución, con un valor-p de {}'.format(col1, pvalue))\n",
    "    else:\n",
    "        print('No se rechaza H0: para la variable \\'{}\\', no hay evidencia de que ambas muestras no pertenecen a la misma distribución, con un valor-p de {}'.format(col1, pvalue))"
   ]
  },
  {
   "cell_type": "code",
   "execution_count": 32,
   "metadata": {},
   "outputs": [
    {
     "name": "stdout",
     "output_type": "stream",
     "text": [
      "H0 es rechazado: para la variable 'age', ambas muestras no pertenecen a la misma distribución, con un valor-p de 5.732974151389997e-29\n",
      "H0 es rechazado: para la variable 'balance', ambas muestras no pertenecen a la misma distribución, con un valor-p de 2.5286680175195573e-68\n",
      "H0 es rechazado: para la variable 'day', ambas muestras no pertenecen a la misma distribución, con un valor-p de 4.8366049400556046e-18\n",
      "H0 es rechazado: para la variable 'month', ambas muestras no pertenecen a la misma distribución, con un valor-p de 3.460237934583386e-36\n",
      "H0 es rechazado: para la variable 'duration', ambas muestras no pertenecen a la misma distribución, con un valor-p de 0.0\n",
      "H0 es rechazado: para la variable 'campaign', ambas muestras no pertenecen a la misma distribución, con un valor-p de 1.0825070793232668e-48\n",
      "H0 es rechazado: para la variable 'pdays', ambas muestras no pertenecen a la misma distribución, con un valor-p de 6.457723415968823e-167\n",
      "H0 es rechazado: para la variable 'previous', ambas muestras no pertenecen a la misma distribución, con un valor-p de 5.607590174638407e-166\n",
      "H0 es rechazado: para la variable 'month_code', ambas muestras no pertenecen a la misma distribución, con un valor-p de 7.059649616671917e-54\n"
     ]
    }
   ],
   "source": [
    "numeric = banking.select_dtypes(exclude='object')\n",
    "for columna in numeric:\n",
    "    test_ks(banking,columna)"
   ]
  },
  {
   "cell_type": "markdown",
   "metadata": {},
   "source": [
    "Según los resultados obtenidos del test Kolmogorov-Smirnov, se puede inferir que ambas muestras para cada una de las variables númericas no pertenecen a la misma distribución, y por tanto se pueden considerar como buenas candidatas a variables explicativas para el modelo."
   ]
  },
  {
   "cell_type": "code",
   "execution_count": 33,
   "metadata": {},
   "outputs": [
    {
     "data": {
      "text/plain": [
       "<AxesSubplot:>"
      ]
     },
     "execution_count": 33,
     "metadata": {},
     "output_type": "execute_result"
    },
    {
     "data": {
      "image/png": "[encoded data removed]",
      "text/plain": [
       "<Figure size 432x288 with 2 Axes>"
      ]
     },
     "metadata": {
      "needs_background": "light"
     },
     "output_type": "display_data"
    }
   ],
   "source": [
    "mat_corr = banking.corr()\n",
    "sns.heatmap(mat_corr)"
   ]
  },
  {
   "cell_type": "code",
   "execution_count": 35,
   "metadata": {},
   "outputs": [
    {
     "data": {
      "text/html": [
       "<div>\n",
       "<style scoped>\n",
       "    .dataframe tbody tr th:only-of-type {\n",
       "        vertical-align: middle;\n",
       "    }\n",
       "\n",
       "    .dataframe tbody tr th {\n",
       "        vertical-align: top;\n",
       "    }\n",
       "\n",
       "    .dataframe thead th {\n",
       "        text-align: right;\n",
       "    }\n",
       "</style>\n",
       "<table border=\"1\" class=\"dataframe\">\n",
       "  <thead>\n",
       "    <tr style=\"text-align: right;\">\n",
       "      <th></th>\n",
       "      <th>age</th>\n",
       "      <th>job</th>\n",
       "      <th>marital</th>\n",
       "      <th>education</th>\n",
       "      <th>default</th>\n",
       "      <th>balance</th>\n",
       "      <th>housing</th>\n",
       "      <th>loan</th>\n",
       "      <th>contact</th>\n",
       "      <th>day</th>\n",
       "      <th>month</th>\n",
       "      <th>duration</th>\n",
       "      <th>campaign</th>\n",
       "      <th>pdays</th>\n",
       "      <th>previous</th>\n",
       "      <th>poutcome</th>\n",
       "      <th>y</th>\n",
       "      <th>month_code</th>\n",
       "    </tr>\n",
       "  </thead>\n",
       "  <tbody>\n",
       "    <tr>\n",
       "      <th>0</th>\n",
       "      <td>58</td>\n",
       "      <td>management</td>\n",
       "      <td>married</td>\n",
       "      <td>tertiary</td>\n",
       "      <td>no</td>\n",
       "      <td>2143</td>\n",
       "      <td>yes</td>\n",
       "      <td>no</td>\n",
       "      <td>unknown</td>\n",
       "      <td>5</td>\n",
       "      <td>may</td>\n",
       "      <td>261</td>\n",
       "      <td>1</td>\n",
       "      <td>-1</td>\n",
       "      <td>0</td>\n",
       "      <td>unknown</td>\n",
       "      <td>no</td>\n",
       "      <td>4</td>\n",
       "    </tr>\n",
       "    <tr>\n",
       "      <th>1</th>\n",
       "      <td>44</td>\n",
       "      <td>technician</td>\n",
       "      <td>single</td>\n",
       "      <td>secondary</td>\n",
       "      <td>no</td>\n",
       "      <td>29</td>\n",
       "      <td>yes</td>\n",
       "      <td>no</td>\n",
       "      <td>unknown</td>\n",
       "      <td>5</td>\n",
       "      <td>may</td>\n",
       "      <td>151</td>\n",
       "      <td>1</td>\n",
       "      <td>-1</td>\n",
       "      <td>0</td>\n",
       "      <td>unknown</td>\n",
       "      <td>no</td>\n",
       "      <td>4</td>\n",
       "    </tr>\n",
       "    <tr>\n",
       "      <th>2</th>\n",
       "      <td>33</td>\n",
       "      <td>entrepreneur</td>\n",
       "      <td>married</td>\n",
       "      <td>secondary</td>\n",
       "      <td>no</td>\n",
       "      <td>2</td>\n",
       "      <td>yes</td>\n",
       "      <td>yes</td>\n",
       "      <td>unknown</td>\n",
       "      <td>5</td>\n",
       "      <td>may</td>\n",
       "      <td>76</td>\n",
       "      <td>1</td>\n",
       "      <td>-1</td>\n",
       "      <td>0</td>\n",
       "      <td>unknown</td>\n",
       "      <td>no</td>\n",
       "      <td>4</td>\n",
       "    </tr>\n",
       "    <tr>\n",
       "      <th>3</th>\n",
       "      <td>47</td>\n",
       "      <td>blue-collar</td>\n",
       "      <td>married</td>\n",
       "      <td>unknown</td>\n",
       "      <td>no</td>\n",
       "      <td>1506</td>\n",
       "      <td>yes</td>\n",
       "      <td>no</td>\n",
       "      <td>unknown</td>\n",
       "      <td>5</td>\n",
       "      <td>may</td>\n",
       "      <td>92</td>\n",
       "      <td>1</td>\n",
       "      <td>-1</td>\n",
       "      <td>0</td>\n",
       "      <td>unknown</td>\n",
       "      <td>no</td>\n",
       "      <td>4</td>\n",
       "    </tr>\n",
       "    <tr>\n",
       "      <th>4</th>\n",
       "      <td>33</td>\n",
       "      <td>unknown</td>\n",
       "      <td>single</td>\n",
       "      <td>unknown</td>\n",
       "      <td>no</td>\n",
       "      <td>1</td>\n",
       "      <td>no</td>\n",
       "      <td>no</td>\n",
       "      <td>unknown</td>\n",
       "      <td>5</td>\n",
       "      <td>may</td>\n",
       "      <td>198</td>\n",
       "      <td>1</td>\n",
       "      <td>-1</td>\n",
       "      <td>0</td>\n",
       "      <td>unknown</td>\n",
       "      <td>no</td>\n",
       "      <td>4</td>\n",
       "    </tr>\n",
       "  </tbody>\n",
       "</table>\n",
       "</div>"
      ],
      "text/plain": [
       "   age           job  marital  education default  balance housing loan  \\\n",
       "0   58    management  married   tertiary      no     2143     yes   no   \n",
       "1   44    technician   single  secondary      no       29     yes   no   \n",
       "2   33  entrepreneur  married  secondary      no        2     yes  yes   \n",
       "3   47   blue-collar  married    unknown      no     1506     yes   no   \n",
       "4   33       unknown   single    unknown      no        1      no   no   \n",
       "\n",
       "   contact  day month  duration  campaign  pdays  previous poutcome   y  \\\n",
       "0  unknown    5   may       261         1     -1         0  unknown  no   \n",
       "1  unknown    5   may       151         1     -1         0  unknown  no   \n",
       "2  unknown    5   may        76         1     -1         0  unknown  no   \n",
       "3  unknown    5   may        92         1     -1         0  unknown  no   \n",
       "4  unknown    5   may       198         1     -1         0  unknown  no   \n",
       "\n",
       "   month_code  \n",
       "0           4  \n",
       "1           4  \n",
       "2           4  \n",
       "3           4  \n",
       "4           4  "
      ]
     },
     "execution_count": 35,
     "metadata": {},
     "output_type": "execute_result"
    }
   ],
   "source": [
    "banking.head()"
   ]
  },
  {
   "cell_type": "code",
   "execution_count": 148,
   "metadata": {},
   "outputs": [],
   "source": [
    "## CODIFICACIÓN, ESCALADO DE LAS VARIABLES"
   ]
  },
  {
   "cell_type": "code",
   "execution_count": 96,
   "metadata": {},
   "outputs": [],
   "source": [
    "banking_copy = banking.copy()\r\n"
   ]
  },
  {
   "cell_type": "code",
   "execution_count": 97,
   "metadata": {},
   "outputs": [
    {
     "data": {
      "text/html": [
       "<div>\n",
       "<style scoped>\n",
       "    .dataframe tbody tr th:only-of-type {\n",
       "        vertical-align: middle;\n",
       "    }\n",
       "\n",
       "    .dataframe tbody tr th {\n",
       "        vertical-align: top;\n",
       "    }\n",
       "\n",
       "    .dataframe thead th {\n",
       "        text-align: right;\n",
       "    }\n",
       "</style>\n",
       "<table border=\"1\" class=\"dataframe\">\n",
       "  <thead>\n",
       "    <tr style=\"text-align: right;\">\n",
       "      <th></th>\n",
       "      <th>age</th>\n",
       "      <th>default</th>\n",
       "      <th>balance</th>\n",
       "      <th>housing</th>\n",
       "      <th>loan</th>\n",
       "      <th>day</th>\n",
       "      <th>month</th>\n",
       "      <th>duration</th>\n",
       "      <th>campaign</th>\n",
       "      <th>pdays</th>\n",
       "      <th>previous</th>\n",
       "      <th>y</th>\n",
       "      <th>month_code</th>\n",
       "      <th>job_admin.</th>\n",
       "      <th>job_blue-collar</th>\n",
       "      <th>job_entrepreneur</th>\n",
       "      <th>job_housemaid</th>\n",
       "      <th>job_management</th>\n",
       "      <th>job_retired</th>\n",
       "      <th>job_self-employed</th>\n",
       "      <th>job_services</th>\n",
       "      <th>job_student</th>\n",
       "      <th>job_technician</th>\n",
       "      <th>job_unemployed</th>\n",
       "      <th>job_unknown</th>\n",
       "      <th>marital_divorced</th>\n",
       "      <th>marital_married</th>\n",
       "      <th>marital_single</th>\n",
       "      <th>education_primary</th>\n",
       "      <th>education_secondary</th>\n",
       "      <th>education_tertiary</th>\n",
       "      <th>education_unknown</th>\n",
       "      <th>contact_cellular</th>\n",
       "      <th>contact_telephone</th>\n",
       "      <th>contact_unknown</th>\n",
       "      <th>poutcome_failure</th>\n",
       "      <th>poutcome_other</th>\n",
       "      <th>poutcome_success</th>\n",
       "      <th>poutcome_unknown</th>\n",
       "    </tr>\n",
       "  </thead>\n",
       "  <tbody>\n",
       "    <tr>\n",
       "      <th>0</th>\n",
       "      <td>58</td>\n",
       "      <td>no</td>\n",
       "      <td>2143</td>\n",
       "      <td>yes</td>\n",
       "      <td>no</td>\n",
       "      <td>5</td>\n",
       "      <td>may</td>\n",
       "      <td>261</td>\n",
       "      <td>1</td>\n",
       "      <td>-1</td>\n",
       "      <td>0</td>\n",
       "      <td>no</td>\n",
       "      <td>4</td>\n",
       "      <td>0</td>\n",
       "      <td>0</td>\n",
       "      <td>0</td>\n",
       "      <td>0</td>\n",
       "      <td>1</td>\n",
       "      <td>0</td>\n",
       "      <td>0</td>\n",
       "      <td>0</td>\n",
       "      <td>0</td>\n",
       "      <td>0</td>\n",
       "      <td>0</td>\n",
       "      <td>0</td>\n",
       "      <td>0</td>\n",
       "      <td>1</td>\n",
       "      <td>0</td>\n",
       "      <td>0</td>\n",
       "      <td>0</td>\n",
       "      <td>1</td>\n",
       "      <td>0</td>\n",
       "      <td>0</td>\n",
       "      <td>0</td>\n",
       "      <td>1</td>\n",
       "      <td>0</td>\n",
       "      <td>0</td>\n",
       "      <td>0</td>\n",
       "      <td>1</td>\n",
       "    </tr>\n",
       "    <tr>\n",
       "      <th>1</th>\n",
       "      <td>44</td>\n",
       "      <td>no</td>\n",
       "      <td>29</td>\n",
       "      <td>yes</td>\n",
       "      <td>no</td>\n",
       "      <td>5</td>\n",
       "      <td>may</td>\n",
       "      <td>151</td>\n",
       "      <td>1</td>\n",
       "      <td>-1</td>\n",
       "      <td>0</td>\n",
       "      <td>no</td>\n",
       "      <td>4</td>\n",
       "      <td>0</td>\n",
       "      <td>0</td>\n",
       "      <td>0</td>\n",
       "      <td>0</td>\n",
       "      <td>0</td>\n",
       "      <td>0</td>\n",
       "      <td>0</td>\n",
       "      <td>0</td>\n",
       "      <td>0</td>\n",
       "      <td>1</td>\n",
       "      <td>0</td>\n",
       "      <td>0</td>\n",
       "      <td>0</td>\n",
       "      <td>0</td>\n",
       "      <td>1</td>\n",
       "      <td>0</td>\n",
       "      <td>1</td>\n",
       "      <td>0</td>\n",
       "      <td>0</td>\n",
       "      <td>0</td>\n",
       "      <td>0</td>\n",
       "      <td>1</td>\n",
       "      <td>0</td>\n",
       "      <td>0</td>\n",
       "      <td>0</td>\n",
       "      <td>1</td>\n",
       "    </tr>\n",
       "    <tr>\n",
       "      <th>2</th>\n",
       "      <td>33</td>\n",
       "      <td>no</td>\n",
       "      <td>2</td>\n",
       "      <td>yes</td>\n",
       "      <td>yes</td>\n",
       "      <td>5</td>\n",
       "      <td>may</td>\n",
       "      <td>76</td>\n",
       "      <td>1</td>\n",
       "      <td>-1</td>\n",
       "      <td>0</td>\n",
       "      <td>no</td>\n",
       "      <td>4</td>\n",
       "      <td>0</td>\n",
       "      <td>0</td>\n",
       "      <td>1</td>\n",
       "      <td>0</td>\n",
       "      <td>0</td>\n",
       "      <td>0</td>\n",
       "      <td>0</td>\n",
       "      <td>0</td>\n",
       "      <td>0</td>\n",
       "      <td>0</td>\n",
       "      <td>0</td>\n",
       "      <td>0</td>\n",
       "      <td>0</td>\n",
       "      <td>1</td>\n",
       "      <td>0</td>\n",
       "      <td>0</td>\n",
       "      <td>1</td>\n",
       "      <td>0</td>\n",
       "      <td>0</td>\n",
       "      <td>0</td>\n",
       "      <td>0</td>\n",
       "      <td>1</td>\n",
       "      <td>0</td>\n",
       "      <td>0</td>\n",
       "      <td>0</td>\n",
       "      <td>1</td>\n",
       "    </tr>\n",
       "    <tr>\n",
       "      <th>3</th>\n",
       "      <td>47</td>\n",
       "      <td>no</td>\n",
       "      <td>1506</td>\n",
       "      <td>yes</td>\n",
       "      <td>no</td>\n",
       "      <td>5</td>\n",
       "      <td>may</td>\n",
       "      <td>92</td>\n",
       "      <td>1</td>\n",
       "      <td>-1</td>\n",
       "      <td>0</td>\n",
       "      <td>no</td>\n",
       "      <td>4</td>\n",
       "      <td>0</td>\n",
       "      <td>1</td>\n",
       "      <td>0</td>\n",
       "      <td>0</td>\n",
       "      <td>0</td>\n",
       "      <td>0</td>\n",
       "      <td>0</td>\n",
       "      <td>0</td>\n",
       "      <td>0</td>\n",
       "      <td>0</td>\n",
       "      <td>0</td>\n",
       "      <td>0</td>\n",
       "      <td>0</td>\n",
       "      <td>1</td>\n",
       "      <td>0</td>\n",
       "      <td>0</td>\n",
       "      <td>0</td>\n",
       "      <td>0</td>\n",
       "      <td>1</td>\n",
       "      <td>0</td>\n",
       "      <td>0</td>\n",
       "      <td>1</td>\n",
       "      <td>0</td>\n",
       "      <td>0</td>\n",
       "      <td>0</td>\n",
       "      <td>1</td>\n",
       "    </tr>\n",
       "    <tr>\n",
       "      <th>4</th>\n",
       "      <td>33</td>\n",
       "      <td>no</td>\n",
       "      <td>1</td>\n",
       "      <td>no</td>\n",
       "      <td>no</td>\n",
       "      <td>5</td>\n",
       "      <td>may</td>\n",
       "      <td>198</td>\n",
       "      <td>1</td>\n",
       "      <td>-1</td>\n",
       "      <td>0</td>\n",
       "      <td>no</td>\n",
       "      <td>4</td>\n",
       "      <td>0</td>\n",
       "      <td>0</td>\n",
       "      <td>0</td>\n",
       "      <td>0</td>\n",
       "      <td>0</td>\n",
       "      <td>0</td>\n",
       "      <td>0</td>\n",
       "      <td>0</td>\n",
       "      <td>0</td>\n",
       "      <td>0</td>\n",
       "      <td>0</td>\n",
       "      <td>1</td>\n",
       "      <td>0</td>\n",
       "      <td>0</td>\n",
       "      <td>1</td>\n",
       "      <td>0</td>\n",
       "      <td>0</td>\n",
       "      <td>0</td>\n",
       "      <td>1</td>\n",
       "      <td>0</td>\n",
       "      <td>0</td>\n",
       "      <td>1</td>\n",
       "      <td>0</td>\n",
       "      <td>0</td>\n",
       "      <td>0</td>\n",
       "      <td>1</td>\n",
       "    </tr>\n",
       "    <tr>\n",
       "      <th>...</th>\n",
       "      <td>...</td>\n",
       "      <td>...</td>\n",
       "      <td>...</td>\n",
       "      <td>...</td>\n",
       "      <td>...</td>\n",
       "      <td>...</td>\n",
       "      <td>...</td>\n",
       "      <td>...</td>\n",
       "      <td>...</td>\n",
       "      <td>...</td>\n",
       "      <td>...</td>\n",
       "      <td>...</td>\n",
       "      <td>...</td>\n",
       "      <td>...</td>\n",
       "      <td>...</td>\n",
       "      <td>...</td>\n",
       "      <td>...</td>\n",
       "      <td>...</td>\n",
       "      <td>...</td>\n",
       "      <td>...</td>\n",
       "      <td>...</td>\n",
       "      <td>...</td>\n",
       "      <td>...</td>\n",
       "      <td>...</td>\n",
       "      <td>...</td>\n",
       "      <td>...</td>\n",
       "      <td>...</td>\n",
       "      <td>...</td>\n",
       "      <td>...</td>\n",
       "      <td>...</td>\n",
       "      <td>...</td>\n",
       "      <td>...</td>\n",
       "      <td>...</td>\n",
       "      <td>...</td>\n",
       "      <td>...</td>\n",
       "      <td>...</td>\n",
       "      <td>...</td>\n",
       "      <td>...</td>\n",
       "      <td>...</td>\n",
       "    </tr>\n",
       "    <tr>\n",
       "      <th>45206</th>\n",
       "      <td>51</td>\n",
       "      <td>no</td>\n",
       "      <td>825</td>\n",
       "      <td>no</td>\n",
       "      <td>no</td>\n",
       "      <td>17</td>\n",
       "      <td>nov</td>\n",
       "      <td>977</td>\n",
       "      <td>3</td>\n",
       "      <td>-1</td>\n",
       "      <td>0</td>\n",
       "      <td>yes</td>\n",
       "      <td>10</td>\n",
       "      <td>0</td>\n",
       "      <td>0</td>\n",
       "      <td>0</td>\n",
       "      <td>0</td>\n",
       "      <td>0</td>\n",
       "      <td>0</td>\n",
       "      <td>0</td>\n",
       "      <td>0</td>\n",
       "      <td>0</td>\n",
       "      <td>1</td>\n",
       "      <td>0</td>\n",
       "      <td>0</td>\n",
       "      <td>0</td>\n",
       "      <td>1</td>\n",
       "      <td>0</td>\n",
       "      <td>0</td>\n",
       "      <td>0</td>\n",
       "      <td>1</td>\n",
       "      <td>0</td>\n",
       "      <td>1</td>\n",
       "      <td>0</td>\n",
       "      <td>0</td>\n",
       "      <td>0</td>\n",
       "      <td>0</td>\n",
       "      <td>0</td>\n",
       "      <td>1</td>\n",
       "    </tr>\n",
       "    <tr>\n",
       "      <th>45207</th>\n",
       "      <td>71</td>\n",
       "      <td>no</td>\n",
       "      <td>1729</td>\n",
       "      <td>no</td>\n",
       "      <td>no</td>\n",
       "      <td>17</td>\n",
       "      <td>nov</td>\n",
       "      <td>456</td>\n",
       "      <td>2</td>\n",
       "      <td>-1</td>\n",
       "      <td>0</td>\n",
       "      <td>yes</td>\n",
       "      <td>10</td>\n",
       "      <td>0</td>\n",
       "      <td>0</td>\n",
       "      <td>0</td>\n",
       "      <td>0</td>\n",
       "      <td>0</td>\n",
       "      <td>1</td>\n",
       "      <td>0</td>\n",
       "      <td>0</td>\n",
       "      <td>0</td>\n",
       "      <td>0</td>\n",
       "      <td>0</td>\n",
       "      <td>0</td>\n",
       "      <td>1</td>\n",
       "      <td>0</td>\n",
       "      <td>0</td>\n",
       "      <td>1</td>\n",
       "      <td>0</td>\n",
       "      <td>0</td>\n",
       "      <td>0</td>\n",
       "      <td>1</td>\n",
       "      <td>0</td>\n",
       "      <td>0</td>\n",
       "      <td>0</td>\n",
       "      <td>0</td>\n",
       "      <td>0</td>\n",
       "      <td>1</td>\n",
       "    </tr>\n",
       "    <tr>\n",
       "      <th>45208</th>\n",
       "      <td>72</td>\n",
       "      <td>no</td>\n",
       "      <td>5715</td>\n",
       "      <td>no</td>\n",
       "      <td>no</td>\n",
       "      <td>17</td>\n",
       "      <td>nov</td>\n",
       "      <td>1127</td>\n",
       "      <td>5</td>\n",
       "      <td>184</td>\n",
       "      <td>3</td>\n",
       "      <td>yes</td>\n",
       "      <td>10</td>\n",
       "      <td>0</td>\n",
       "      <td>0</td>\n",
       "      <td>0</td>\n",
       "      <td>0</td>\n",
       "      <td>0</td>\n",
       "      <td>1</td>\n",
       "      <td>0</td>\n",
       "      <td>0</td>\n",
       "      <td>0</td>\n",
       "      <td>0</td>\n",
       "      <td>0</td>\n",
       "      <td>0</td>\n",
       "      <td>0</td>\n",
       "      <td>1</td>\n",
       "      <td>0</td>\n",
       "      <td>0</td>\n",
       "      <td>1</td>\n",
       "      <td>0</td>\n",
       "      <td>0</td>\n",
       "      <td>1</td>\n",
       "      <td>0</td>\n",
       "      <td>0</td>\n",
       "      <td>0</td>\n",
       "      <td>0</td>\n",
       "      <td>1</td>\n",
       "      <td>0</td>\n",
       "    </tr>\n",
       "    <tr>\n",
       "      <th>45209</th>\n",
       "      <td>57</td>\n",
       "      <td>no</td>\n",
       "      <td>668</td>\n",
       "      <td>no</td>\n",
       "      <td>no</td>\n",
       "      <td>17</td>\n",
       "      <td>nov</td>\n",
       "      <td>508</td>\n",
       "      <td>4</td>\n",
       "      <td>-1</td>\n",
       "      <td>0</td>\n",
       "      <td>no</td>\n",
       "      <td>10</td>\n",
       "      <td>0</td>\n",
       "      <td>1</td>\n",
       "      <td>0</td>\n",
       "      <td>0</td>\n",
       "      <td>0</td>\n",
       "      <td>0</td>\n",
       "      <td>0</td>\n",
       "      <td>0</td>\n",
       "      <td>0</td>\n",
       "      <td>0</td>\n",
       "      <td>0</td>\n",
       "      <td>0</td>\n",
       "      <td>0</td>\n",
       "      <td>1</td>\n",
       "      <td>0</td>\n",
       "      <td>0</td>\n",
       "      <td>1</td>\n",
       "      <td>0</td>\n",
       "      <td>0</td>\n",
       "      <td>0</td>\n",
       "      <td>1</td>\n",
       "      <td>0</td>\n",
       "      <td>0</td>\n",
       "      <td>0</td>\n",
       "      <td>0</td>\n",
       "      <td>1</td>\n",
       "    </tr>\n",
       "    <tr>\n",
       "      <th>45210</th>\n",
       "      <td>37</td>\n",
       "      <td>no</td>\n",
       "      <td>2971</td>\n",
       "      <td>no</td>\n",
       "      <td>no</td>\n",
       "      <td>17</td>\n",
       "      <td>nov</td>\n",
       "      <td>361</td>\n",
       "      <td>2</td>\n",
       "      <td>188</td>\n",
       "      <td>11</td>\n",
       "      <td>no</td>\n",
       "      <td>10</td>\n",
       "      <td>0</td>\n",
       "      <td>0</td>\n",
       "      <td>1</td>\n",
       "      <td>0</td>\n",
       "      <td>0</td>\n",
       "      <td>0</td>\n",
       "      <td>0</td>\n",
       "      <td>0</td>\n",
       "      <td>0</td>\n",
       "      <td>0</td>\n",
       "      <td>0</td>\n",
       "      <td>0</td>\n",
       "      <td>0</td>\n",
       "      <td>1</td>\n",
       "      <td>0</td>\n",
       "      <td>0</td>\n",
       "      <td>1</td>\n",
       "      <td>0</td>\n",
       "      <td>0</td>\n",
       "      <td>1</td>\n",
       "      <td>0</td>\n",
       "      <td>0</td>\n",
       "      <td>0</td>\n",
       "      <td>1</td>\n",
       "      <td>0</td>\n",
       "      <td>0</td>\n",
       "    </tr>\n",
       "  </tbody>\n",
       "</table>\n",
       "<p>45211 rows × 39 columns</p>\n",
       "</div>"
      ],
      "text/plain": [
       "       age default  balance housing loan  day month  duration  campaign  \\\n",
       "0       58      no     2143     yes   no    5   may       261         1   \n",
       "1       44      no       29     yes   no    5   may       151         1   \n",
       "2       33      no        2     yes  yes    5   may        76         1   \n",
       "3       47      no     1506     yes   no    5   may        92         1   \n",
       "4       33      no        1      no   no    5   may       198         1   \n",
       "...    ...     ...      ...     ...  ...  ...   ...       ...       ...   \n",
       "45206   51      no      825      no   no   17   nov       977         3   \n",
       "45207   71      no     1729      no   no   17   nov       456         2   \n",
       "45208   72      no     5715      no   no   17   nov      1127         5   \n",
       "45209   57      no      668      no   no   17   nov       508         4   \n",
       "45210   37      no     2971      no   no   17   nov       361         2   \n",
       "\n",
       "       pdays  previous    y  month_code  job_admin.  job_blue-collar  \\\n",
       "0         -1         0   no           4           0                0   \n",
       "1         -1         0   no           4           0                0   \n",
       "2         -1         0   no           4           0                0   \n",
       "3         -1         0   no           4           0                1   \n",
       "4         -1         0   no           4           0                0   \n",
       "...      ...       ...  ...         ...         ...              ...   \n",
       "45206     -1         0  yes          10           0                0   \n",
       "45207     -1         0  yes          10           0                0   \n",
       "45208    184         3  yes          10           0                0   \n",
       "45209     -1         0   no          10           0                1   \n",
       "45210    188        11   no          10           0                0   \n",
       "\n",
       "       job_entrepreneur  job_housemaid  job_management  job_retired  \\\n",
       "0                     0              0               1            0   \n",
       "1                     0              0               0            0   \n",
       "2                     1              0               0            0   \n",
       "3                     0              0               0            0   \n",
       "4                     0              0               0            0   \n",
       "...                 ...            ...             ...          ...   \n",
       "45206                 0              0               0            0   \n",
       "45207                 0              0               0            1   \n",
       "45208                 0              0               0            1   \n",
       "45209                 0              0               0            0   \n",
       "45210                 1              0               0            0   \n",
       "\n",
       "       job_self-employed  job_services  job_student  job_technician  \\\n",
       "0                      0             0            0               0   \n",
       "1                      0             0            0               1   \n",
       "2                      0             0            0               0   \n",
       "3                      0             0            0               0   \n",
       "4                      0             0            0               0   \n",
       "...                  ...           ...          ...             ...   \n",
       "45206                  0             0            0               1   \n",
       "45207                  0             0            0               0   \n",
       "45208                  0             0            0               0   \n",
       "45209                  0             0            0               0   \n",
       "45210                  0             0            0               0   \n",
       "\n",
       "       job_unemployed  job_unknown  marital_divorced  marital_married  \\\n",
       "0                   0            0                 0                1   \n",
       "1                   0            0                 0                0   \n",
       "2                   0            0                 0                1   \n",
       "3                   0            0                 0                1   \n",
       "4                   0            1                 0                0   \n",
       "...               ...          ...               ...              ...   \n",
       "45206               0            0                 0                1   \n",
       "45207               0            0                 1                0   \n",
       "45208               0            0                 0                1   \n",
       "45209               0            0                 0                1   \n",
       "45210               0            0                 0                1   \n",
       "\n",
       "       marital_single  education_primary  education_secondary  \\\n",
       "0                   0                  0                    0   \n",
       "1                   1                  0                    1   \n",
       "2                   0                  0                    1   \n",
       "3                   0                  0                    0   \n",
       "4                   1                  0                    0   \n",
       "...               ...                ...                  ...   \n",
       "45206               0                  0                    0   \n",
       "45207               0                  1                    0   \n",
       "45208               0                  0                    1   \n",
       "45209               0                  0                    1   \n",
       "45210               0                  0                    1   \n",
       "\n",
       "       education_tertiary  education_unknown  contact_cellular  \\\n",
       "0                       1                  0                 0   \n",
       "1                       0                  0                 0   \n",
       "2                       0                  0                 0   \n",
       "3                       0                  1                 0   \n",
       "4                       0                  1                 0   \n",
       "...                   ...                ...               ...   \n",
       "45206                   1                  0                 1   \n",
       "45207                   0                  0                 1   \n",
       "45208                   0                  0                 1   \n",
       "45209                   0                  0                 0   \n",
       "45210                   0                  0                 1   \n",
       "\n",
       "       contact_telephone  contact_unknown  poutcome_failure  poutcome_other  \\\n",
       "0                      0                1                 0               0   \n",
       "1                      0                1                 0               0   \n",
       "2                      0                1                 0               0   \n",
       "3                      0                1                 0               0   \n",
       "4                      0                1                 0               0   \n",
       "...                  ...              ...               ...             ...   \n",
       "45206                  0                0                 0               0   \n",
       "45207                  0                0                 0               0   \n",
       "45208                  0                0                 0               0   \n",
       "45209                  1                0                 0               0   \n",
       "45210                  0                0                 0               1   \n",
       "\n",
       "       poutcome_success  poutcome_unknown  \n",
       "0                     0                 1  \n",
       "1                     0                 1  \n",
       "2                     0                 1  \n",
       "3                     0                 1  \n",
       "4                     0                 1  \n",
       "...                 ...               ...  \n",
       "45206                 0                 1  \n",
       "45207                 0                 1  \n",
       "45208                 1                 0  \n",
       "45209                 0                 1  \n",
       "45210                 0                 0  \n",
       "\n",
       "[45211 rows x 39 columns]"
      ]
     },
     "execution_count": 97,
     "metadata": {},
     "output_type": "execute_result"
    }
   ],
   "source": [
    "# Se aplica one-hot encoding a las variables categóricas no ordinales\r\n",
    "banking_copy_ohe = pd.get_dummies(banking_copy, columns = ['job', 'marital', 'education', 'contact', 'poutcome'])\r\n",
    "banking_copy_ohe"
   ]
  },
  {
   "cell_type": "code",
   "execution_count": 149,
   "metadata": {},
   "outputs": [],
   "source": [
    "def label_encoder(x):\r\n",
    "    \"\"\"\r\n",
    "    Función para convertir varaibles categóricas en númericas\r\n",
    "    \"\"\"\r\n",
    "    if x==\"yes\":\r\n",
    "        return 1\r\n",
    "    else:\r\n",
    "        return 0"
   ]
  },
  {
   "cell_type": "code",
   "execution_count": 99,
   "metadata": {},
   "outputs": [],
   "source": [
    "## convertir variablrs binarias\r\n",
    "labels = ['default','housing','loan', 'y']\r\n",
    "for label in labels:\r\n",
    "    banking_copy_ohe[label] = banking_copy_ohe[label].apply(lambda x: label_encoder(x))"
   ]
  },
  {
   "cell_type": "code",
   "execution_count": null,
   "metadata": {},
   "outputs": [],
   "source": []
  },
  {
   "cell_type": "code",
   "execution_count": 151,
   "metadata": {},
   "outputs": [
    {
     "data": {
      "text/html": [
       "<div>\n",
       "<style scoped>\n",
       "    .dataframe tbody tr th:only-of-type {\n",
       "        vertical-align: middle;\n",
       "    }\n",
       "\n",
       "    .dataframe tbody tr th {\n",
       "        vertical-align: top;\n",
       "    }\n",
       "\n",
       "    .dataframe thead th {\n",
       "        text-align: right;\n",
       "    }\n",
       "</style>\n",
       "<table border=\"1\" class=\"dataframe\">\n",
       "  <thead>\n",
       "    <tr style=\"text-align: right;\">\n",
       "      <th></th>\n",
       "      <th>age</th>\n",
       "      <th>default</th>\n",
       "      <th>balance</th>\n",
       "      <th>housing</th>\n",
       "      <th>loan</th>\n",
       "      <th>day</th>\n",
       "      <th>duration</th>\n",
       "      <th>campaign</th>\n",
       "      <th>pdays</th>\n",
       "      <th>previous</th>\n",
       "      <th>y</th>\n",
       "      <th>month_code</th>\n",
       "      <th>job_admin.</th>\n",
       "      <th>job_blue-collar</th>\n",
       "      <th>job_entrepreneur</th>\n",
       "      <th>job_housemaid</th>\n",
       "      <th>job_management</th>\n",
       "      <th>job_retired</th>\n",
       "      <th>job_self-employed</th>\n",
       "      <th>job_services</th>\n",
       "      <th>job_student</th>\n",
       "      <th>job_technician</th>\n",
       "      <th>job_unemployed</th>\n",
       "      <th>job_unknown</th>\n",
       "      <th>marital_divorced</th>\n",
       "      <th>marital_married</th>\n",
       "      <th>marital_single</th>\n",
       "      <th>education_primary</th>\n",
       "      <th>education_secondary</th>\n",
       "      <th>education_tertiary</th>\n",
       "      <th>education_unknown</th>\n",
       "      <th>contact_cellular</th>\n",
       "      <th>contact_telephone</th>\n",
       "      <th>contact_unknown</th>\n",
       "      <th>poutcome_failure</th>\n",
       "      <th>poutcome_other</th>\n",
       "      <th>poutcome_success</th>\n",
       "      <th>poutcome_unknown</th>\n",
       "      <th>age_scaled</th>\n",
       "      <th>balance_scaled</th>\n",
       "      <th>day_scaled</th>\n",
       "      <th>duration_scaled</th>\n",
       "      <th>pdays_scaled</th>\n",
       "      <th>month_scaled</th>\n",
       "      <th>previous_scaled</th>\n",
       "    </tr>\n",
       "  </thead>\n",
       "  <tbody>\n",
       "    <tr>\n",
       "      <th>0</th>\n",
       "      <td>58</td>\n",
       "      <td>0</td>\n",
       "      <td>2143</td>\n",
       "      <td>1</td>\n",
       "      <td>0</td>\n",
       "      <td>5</td>\n",
       "      <td>261</td>\n",
       "      <td>1</td>\n",
       "      <td>-1</td>\n",
       "      <td>0</td>\n",
       "      <td>0</td>\n",
       "      <td>4</td>\n",
       "      <td>0</td>\n",
       "      <td>0</td>\n",
       "      <td>0</td>\n",
       "      <td>0</td>\n",
       "      <td>1</td>\n",
       "      <td>0</td>\n",
       "      <td>0</td>\n",
       "      <td>0</td>\n",
       "      <td>0</td>\n",
       "      <td>0</td>\n",
       "      <td>0</td>\n",
       "      <td>0</td>\n",
       "      <td>0</td>\n",
       "      <td>1</td>\n",
       "      <td>0</td>\n",
       "      <td>0</td>\n",
       "      <td>0</td>\n",
       "      <td>1</td>\n",
       "      <td>0</td>\n",
       "      <td>0</td>\n",
       "      <td>0</td>\n",
       "      <td>1</td>\n",
       "      <td>0</td>\n",
       "      <td>0</td>\n",
       "      <td>0</td>\n",
       "      <td>1</td>\n",
       "      <td>1.606965</td>\n",
       "      <td>0.256419</td>\n",
       "      <td>-1.298476</td>\n",
       "      <td>0.011016</td>\n",
       "      <td>-0.411453</td>\n",
       "      <td>-0.475354</td>\n",
       "      <td>-0.25194</td>\n",
       "    </tr>\n",
       "    <tr>\n",
       "      <th>1</th>\n",
       "      <td>44</td>\n",
       "      <td>0</td>\n",
       "      <td>29</td>\n",
       "      <td>1</td>\n",
       "      <td>0</td>\n",
       "      <td>5</td>\n",
       "      <td>151</td>\n",
       "      <td>1</td>\n",
       "      <td>-1</td>\n",
       "      <td>0</td>\n",
       "      <td>0</td>\n",
       "      <td>4</td>\n",
       "      <td>0</td>\n",
       "      <td>0</td>\n",
       "      <td>0</td>\n",
       "      <td>0</td>\n",
       "      <td>0</td>\n",
       "      <td>0</td>\n",
       "      <td>0</td>\n",
       "      <td>0</td>\n",
       "      <td>0</td>\n",
       "      <td>1</td>\n",
       "      <td>0</td>\n",
       "      <td>0</td>\n",
       "      <td>0</td>\n",
       "      <td>0</td>\n",
       "      <td>1</td>\n",
       "      <td>0</td>\n",
       "      <td>1</td>\n",
       "      <td>0</td>\n",
       "      <td>0</td>\n",
       "      <td>0</td>\n",
       "      <td>0</td>\n",
       "      <td>1</td>\n",
       "      <td>0</td>\n",
       "      <td>0</td>\n",
       "      <td>0</td>\n",
       "      <td>1</td>\n",
       "      <td>0.288529</td>\n",
       "      <td>-0.437895</td>\n",
       "      <td>-1.298476</td>\n",
       "      <td>-0.416127</td>\n",
       "      <td>-0.411453</td>\n",
       "      <td>-0.475354</td>\n",
       "      <td>-0.25194</td>\n",
       "    </tr>\n",
       "  </tbody>\n",
       "</table>\n",
       "</div>"
      ],
      "text/plain": [
       "   age  default  balance  housing  loan  day  duration  campaign  pdays  \\\n",
       "0   58        0     2143        1     0    5       261         1     -1   \n",
       "1   44        0       29        1     0    5       151         1     -1   \n",
       "\n",
       "   previous  y  month_code  job_admin.  job_blue-collar  job_entrepreneur  \\\n",
       "0         0  0           4           0                0                 0   \n",
       "1         0  0           4           0                0                 0   \n",
       "\n",
       "   job_housemaid  job_management  job_retired  job_self-employed  \\\n",
       "0              0               1            0                  0   \n",
       "1              0               0            0                  0   \n",
       "\n",
       "   job_services  job_student  job_technician  job_unemployed  job_unknown  \\\n",
       "0             0            0               0               0            0   \n",
       "1             0            0               1               0            0   \n",
       "\n",
       "   marital_divorced  marital_married  marital_single  education_primary  \\\n",
       "0                 0                1               0                  0   \n",
       "1                 0                0               1                  0   \n",
       "\n",
       "   education_secondary  education_tertiary  education_unknown  \\\n",
       "0                    0                   1                  0   \n",
       "1                    1                   0                  0   \n",
       "\n",
       "   contact_cellular  contact_telephone  contact_unknown  poutcome_failure  \\\n",
       "0                 0                  0                1                 0   \n",
       "1                 0                  0                1                 0   \n",
       "\n",
       "   poutcome_other  poutcome_success  poutcome_unknown  age_scaled  \\\n",
       "0               0                 0                 1    1.606965   \n",
       "1               0                 0                 1    0.288529   \n",
       "\n",
       "   balance_scaled  day_scaled  duration_scaled  pdays_scaled  month_scaled  \\\n",
       "0        0.256419   -1.298476         0.011016     -0.411453     -0.475354   \n",
       "1       -0.437895   -1.298476        -0.416127     -0.411453     -0.475354   \n",
       "\n",
       "   previous_scaled  \n",
       "0         -0.25194  \n",
       "1         -0.25194  "
      ]
     },
     "execution_count": 151,
     "metadata": {},
     "output_type": "execute_result"
    }
   ],
   "source": [
    "banking_copy_ohe.head(2)"
   ]
  },
  {
   "cell_type": "code",
   "execution_count": 105,
   "metadata": {},
   "outputs": [],
   "source": [
    "banking_copy_ohe.drop(['month'],axis=1,inplace=True)"
   ]
  },
  {
   "cell_type": "code",
   "execution_count": null,
   "metadata": {},
   "outputs": [],
   "source": [
    "## escalar variables numéricas"
   ]
  },
  {
   "cell_type": "code",
   "execution_count": 156,
   "metadata": {},
   "outputs": [],
   "source": [
    "scaler_age = StandardScaler().fit(banking_copy_ohe.age.values.reshape(-1, 1))\r\n",
    "age_scaled = scaler_age.transform(banking_copy_ohe.age.values.reshape(-1, 1))\r\n",
    "\r\n",
    "scaler_balance = StandardScaler().fit(banking_copy_ohe.balance.values.reshape(-1, 1))\r\n",
    "balance_scaled = scaler_balance.transform(banking_copy_ohe.balance.values.reshape(-1, 1))\r\n",
    "\r\n",
    "scaler_day = StandardScaler().fit(banking_copy_ohe.day.values.reshape(-1, 1))\r\n",
    "day_scaled = scaler_day.transform(banking_copy_ohe.day.values.reshape(-1, 1))\r\n",
    "\r\n",
    "\r\n",
    "scaler_duration = StandardScaler().fit(banking_copy_ohe.duration.values.reshape(-1, 1))\r\n",
    "duration_scaled = scaler_duration.transform(banking_copy_ohe.duration.values.reshape(-1, 1))\r\n",
    "\r\n",
    "scaler_pdays = StandardScaler().fit(banking_copy_ohe.pdays.values.reshape(-1, 1))\r\n",
    "pdays_scaled = scaler_pdays.transform(banking_copy_ohe.pdays.values.reshape(-1, 1))\r\n",
    "\r\n",
    "scaler_month_code = StandardScaler().fit(banking_copy_ohe.month_code.values.reshape(-1, 1))\r\n",
    "month_scaled = scaler_month_code.transform(banking_copy_ohe.month_code.values.reshape(-1, 1))\r\n",
    "\r\n",
    "scaler_previous = StandardScaler().fit(banking_copy_ohe.previous.values.reshape(-1, 1))\r\n",
    "previous_scaled = scaler_previous.transform(banking_copy_ohe.previous.values.reshape(-1, 1))\r\n",
    "\r\n",
    "scaler_campaign = StandardScaler().fit(banking_copy_ohe.campaign.values.reshape(-1, 1))\r\n",
    "campaign_scaled = scaler_campaign.transform(banking_copy_ohe.campaign.values.reshape(-1, 1))\r\n"
   ]
  },
  {
   "cell_type": "code",
   "execution_count": 157,
   "metadata": {},
   "outputs": [],
   "source": [
    "banking_copy_ohe['age_scaled'] = age_scaled\r\n",
    "banking_copy_ohe['balance_scaled'] = balance_scaled\r\n",
    "banking_copy_ohe['day_scaled'] = day_scaled\r\n",
    "banking_copy_ohe['duration_scaled'] = duration_scaled\r\n",
    "banking_copy_ohe['pdays_scaled'] = pdays_scaled\r\n",
    "banking_copy_ohe['month_scaled'] = month_scaled\r\n",
    "banking_copy_ohe['previous_scaled'] = previous_scaled\r\n",
    "banking_copy_ohe['campaign_scaled'] = campaign_scaled"
   ]
  },
  {
   "cell_type": "code",
   "execution_count": 158,
   "metadata": {},
   "outputs": [
    {
     "data": {
      "text/html": [
       "<div>\n",
       "<style scoped>\n",
       "    .dataframe tbody tr th:only-of-type {\n",
       "        vertical-align: middle;\n",
       "    }\n",
       "\n",
       "    .dataframe tbody tr th {\n",
       "        vertical-align: top;\n",
       "    }\n",
       "\n",
       "    .dataframe thead th {\n",
       "        text-align: right;\n",
       "    }\n",
       "</style>\n",
       "<table border=\"1\" class=\"dataframe\">\n",
       "  <thead>\n",
       "    <tr style=\"text-align: right;\">\n",
       "      <th></th>\n",
       "      <th>age</th>\n",
       "      <th>default</th>\n",
       "      <th>balance</th>\n",
       "      <th>housing</th>\n",
       "      <th>loan</th>\n",
       "      <th>day</th>\n",
       "      <th>duration</th>\n",
       "      <th>campaign</th>\n",
       "      <th>pdays</th>\n",
       "      <th>previous</th>\n",
       "      <th>y</th>\n",
       "      <th>month_code</th>\n",
       "      <th>job_admin.</th>\n",
       "      <th>job_blue-collar</th>\n",
       "      <th>job_entrepreneur</th>\n",
       "      <th>job_housemaid</th>\n",
       "      <th>job_management</th>\n",
       "      <th>job_retired</th>\n",
       "      <th>job_self-employed</th>\n",
       "      <th>job_services</th>\n",
       "      <th>job_student</th>\n",
       "      <th>job_technician</th>\n",
       "      <th>job_unemployed</th>\n",
       "      <th>job_unknown</th>\n",
       "      <th>marital_divorced</th>\n",
       "      <th>marital_married</th>\n",
       "      <th>marital_single</th>\n",
       "      <th>education_primary</th>\n",
       "      <th>education_secondary</th>\n",
       "      <th>education_tertiary</th>\n",
       "      <th>education_unknown</th>\n",
       "      <th>contact_cellular</th>\n",
       "      <th>contact_telephone</th>\n",
       "      <th>contact_unknown</th>\n",
       "      <th>poutcome_failure</th>\n",
       "      <th>poutcome_other</th>\n",
       "      <th>poutcome_success</th>\n",
       "      <th>poutcome_unknown</th>\n",
       "      <th>age_scaled</th>\n",
       "      <th>balance_scaled</th>\n",
       "      <th>day_scaled</th>\n",
       "      <th>duration_scaled</th>\n",
       "      <th>pdays_scaled</th>\n",
       "      <th>month_scaled</th>\n",
       "      <th>previous_scaled</th>\n",
       "      <th>campaign_scaled</th>\n",
       "    </tr>\n",
       "  </thead>\n",
       "  <tbody>\n",
       "    <tr>\n",
       "      <th>0</th>\n",
       "      <td>58</td>\n",
       "      <td>0</td>\n",
       "      <td>2143</td>\n",
       "      <td>1</td>\n",
       "      <td>0</td>\n",
       "      <td>5</td>\n",
       "      <td>261</td>\n",
       "      <td>1</td>\n",
       "      <td>-1</td>\n",
       "      <td>0</td>\n",
       "      <td>0</td>\n",
       "      <td>4</td>\n",
       "      <td>0</td>\n",
       "      <td>0</td>\n",
       "      <td>0</td>\n",
       "      <td>0</td>\n",
       "      <td>1</td>\n",
       "      <td>0</td>\n",
       "      <td>0</td>\n",
       "      <td>0</td>\n",
       "      <td>0</td>\n",
       "      <td>0</td>\n",
       "      <td>0</td>\n",
       "      <td>0</td>\n",
       "      <td>0</td>\n",
       "      <td>1</td>\n",
       "      <td>0</td>\n",
       "      <td>0</td>\n",
       "      <td>0</td>\n",
       "      <td>1</td>\n",
       "      <td>0</td>\n",
       "      <td>0</td>\n",
       "      <td>0</td>\n",
       "      <td>1</td>\n",
       "      <td>0</td>\n",
       "      <td>0</td>\n",
       "      <td>0</td>\n",
       "      <td>1</td>\n",
       "      <td>1.606965</td>\n",
       "      <td>0.256419</td>\n",
       "      <td>-1.298476</td>\n",
       "      <td>0.011016</td>\n",
       "      <td>-0.411453</td>\n",
       "      <td>-0.475354</td>\n",
       "      <td>-0.25194</td>\n",
       "      <td>-0.569351</td>\n",
       "    </tr>\n",
       "  </tbody>\n",
       "</table>\n",
       "</div>"
      ],
      "text/plain": [
       "   age  default  balance  housing  loan  day  duration  campaign  pdays  \\\n",
       "0   58        0     2143        1     0    5       261         1     -1   \n",
       "\n",
       "   previous  y  month_code  job_admin.  job_blue-collar  job_entrepreneur  \\\n",
       "0         0  0           4           0                0                 0   \n",
       "\n",
       "   job_housemaid  job_management  job_retired  job_self-employed  \\\n",
       "0              0               1            0                  0   \n",
       "\n",
       "   job_services  job_student  job_technician  job_unemployed  job_unknown  \\\n",
       "0             0            0               0               0            0   \n",
       "\n",
       "   marital_divorced  marital_married  marital_single  education_primary  \\\n",
       "0                 0                1               0                  0   \n",
       "\n",
       "   education_secondary  education_tertiary  education_unknown  \\\n",
       "0                    0                   1                  0   \n",
       "\n",
       "   contact_cellular  contact_telephone  contact_unknown  poutcome_failure  \\\n",
       "0                 0                  0                1                 0   \n",
       "\n",
       "   poutcome_other  poutcome_success  poutcome_unknown  age_scaled  \\\n",
       "0               0                 0                 1    1.606965   \n",
       "\n",
       "   balance_scaled  day_scaled  duration_scaled  pdays_scaled  month_scaled  \\\n",
       "0        0.256419   -1.298476         0.011016     -0.411453     -0.475354   \n",
       "\n",
       "   previous_scaled  campaign_scaled  \n",
       "0         -0.25194        -0.569351  "
      ]
     },
     "execution_count": 158,
     "metadata": {},
     "output_type": "execute_result"
    }
   ],
   "source": [
    "banking_copy_ohe.head(1)"
   ]
  },
  {
   "cell_type": "code",
   "execution_count": 162,
   "metadata": {},
   "outputs": [],
   "source": [
    "completo = banking_copy_ohe.copy()\r\n",
    "data_models = banking_copy_ohe[['default','housing','loan', 'y','job_admin.',\r\n",
    "       'job_blue-collar', 'job_entrepreneur', 'job_housemaid',\r\n",
    "       'job_management', 'job_retired', 'job_self-employed', 'job_services',\r\n",
    "       'job_student', 'job_technician', 'job_unemployed', 'job_unknown',\r\n",
    "       'marital_divorced', 'marital_married', 'marital_single',\r\n",
    "       'education_primary', 'education_secondary', 'education_tertiary',\r\n",
    "       'education_unknown', 'contact_cellular', 'contact_telephone',\r\n",
    "       'contact_unknown', 'poutcome_failure', 'poutcome_other',\r\n",
    "       'poutcome_success', 'poutcome_unknown',\r\n",
    "       'age_scaled', 'balance_scaled',\r\n",
    "       'day_scaled', 'duration_scaled', 'pdays_scaled', 'month_scaled',\r\n",
    "       'previous_scaled', 'campaign_scaled']].copy()"
   ]
  },
  {
   "cell_type": "code",
   "execution_count": 189,
   "metadata": {},
   "outputs": [],
   "source": [
    "### CARGAR DATA DE INFERENCIA:\r\n",
    "inferencia = pd.read_csv('Banking/test.csv',sep=\";\")"
   ]
  },
  {
   "cell_type": "code",
   "execution_count": 192,
   "metadata": {},
   "outputs": [],
   "source": [
    "## TRANFORMAR\r\n",
    "month_type_inf = pd.api.types.CategoricalDtype(categories = ['jan', 'feb', 'mar', 'apr', 'may', 'jun', 'jul', 'aug', 'sep', 'oct', 'nov', 'dec'], ordered=True)\r\n",
    "inferencia.month = inferencia.month.astype(month_type_inf)\r\n",
    "inferencia['month_code'] = inferencia['month'].cat.codes\r\n",
    "inferencia_copy = inferencia.copy() "
   ]
  },
  {
   "cell_type": "code",
   "execution_count": 193,
   "metadata": {},
   "outputs": [],
   "source": [
    "inferencia_copy_ohe = pd.get_dummies(inferencia_copy, columns = ['job', 'marital', 'education', 'contact', 'poutcome'])"
   ]
  },
  {
   "cell_type": "code",
   "execution_count": 194,
   "metadata": {},
   "outputs": [],
   "source": [
    "labels = ['default','housing','loan', 'y']\r\n",
    "for label in labels:\r\n",
    "    inferencia_copy_ohe[label] = inferencia_copy_ohe[label].apply(lambda x: label_encoder(x))"
   ]
  },
  {
   "cell_type": "code",
   "execution_count": 195,
   "metadata": {},
   "outputs": [],
   "source": [
    "#scaler_age = StandardScaler().fit(banking_copy_ohe.age.values.reshape(-1, 1))\r\n",
    "age_scaled_inferencia = scaler_age.transform(inferencia_copy_ohe.age.values.reshape(-1, 1))\r\n",
    "\r\n",
    "#scaler_balance = StandardScaler().fit(banking_copy_ohe.balance.values.reshape(-1, 1))\r\n",
    "balance_scaled_inferencia = scaler_balance.transform(inferencia_copy_ohe.balance.values.reshape(-1, 1))\r\n",
    "\r\n",
    "#scaler_day = StandardScaler().fit(banking_copy_ohe.day.values.reshape(-1, 1))\r\n",
    "day_scaled_inferencia = scaler_day.transform(inferencia_copy_ohe.day.values.reshape(-1, 1))\r\n",
    "\r\n",
    "\r\n",
    "#scaler_duration = StandardScaler().fit(banking_copy_ohe.duration.values.reshape(-1, 1))\r\n",
    "duration_scaled_inferencia = scaler_duration.transform(inferencia_copy_ohe.duration.values.reshape(-1, 1))\r\n",
    "\r\n",
    "#scaler_pdays = StandardScaler().fit(banking_copy_ohe.pdays.values.reshape(-1, 1))\r\n",
    "pdays_scaled_inferencia = scaler_pdays.transform(inferencia_copy_ohe.pdays.values.reshape(-1, 1))\r\n",
    "\r\n",
    "#scaler_month_code = StandardScaler().fit(banking_copy_ohe.month_code.values.reshape(-1, 1))\r\n",
    "month_scaled_inferencia = scaler_month_code.transform(inferencia_copy_ohe.month_code.values.reshape(-1, 1))\r\n",
    "\r\n",
    "#scaler_previous = StandardScaler().fit(banking_copy_ohe.previous.values.reshape(-1, 1))\r\n",
    "previous_scaled_inferencia = scaler_previous.transform(inferencia_copy_ohe.previous.values.reshape(-1, 1))\r\n",
    "\r\n",
    "#scaler_campaign = StandardScaler().fit(banking_copy_ohe.campaign.values.reshape(-1, 1))\r\n",
    "campaign_scaled_inferencia = scaler_campaign.transform(inferencia_copy_ohe.campaign.values.reshape(-1, 1))"
   ]
  },
  {
   "cell_type": "code",
   "execution_count": 196,
   "metadata": {},
   "outputs": [],
   "source": [
    "inferencia_copy_ohe['age_scaled'] = age_scaled_inferencia\r\n",
    "inferencia_copy_ohe['balance_scaled'] = balance_scaled_inferencia\r\n",
    "inferencia_copy_ohe['day_scaled'] = day_scaled_inferencia\r\n",
    "inferencia_copy_ohe['duration_scaled'] = duration_scaled_inferencia\r\n",
    "inferencia_copy_ohe['pdays_scaled'] = pdays_scaled_inferencia\r\n",
    "inferencia_copy_ohe['month_scaled'] = month_scaled_inferencia\r\n",
    "inferencia_copy_ohe['previous_scaled'] = previous_scaled_inferencia\r\n",
    "inferencia_copy_ohe['campaign_scaled'] = campaign_scaled_inferencia"
   ]
  },
  {
   "cell_type": "code",
   "execution_count": 198,
   "metadata": {},
   "outputs": [
    {
     "data": {
      "text/html": [
       "<div>\n",
       "<style scoped>\n",
       "    .dataframe tbody tr th:only-of-type {\n",
       "        vertical-align: middle;\n",
       "    }\n",
       "\n",
       "    .dataframe tbody tr th {\n",
       "        vertical-align: top;\n",
       "    }\n",
       "\n",
       "    .dataframe thead th {\n",
       "        text-align: right;\n",
       "    }\n",
       "</style>\n",
       "<table border=\"1\" class=\"dataframe\">\n",
       "  <thead>\n",
       "    <tr style=\"text-align: right;\">\n",
       "      <th></th>\n",
       "      <th>age</th>\n",
       "      <th>default</th>\n",
       "      <th>balance</th>\n",
       "      <th>housing</th>\n",
       "      <th>loan</th>\n",
       "      <th>day</th>\n",
       "      <th>month</th>\n",
       "      <th>duration</th>\n",
       "      <th>campaign</th>\n",
       "      <th>pdays</th>\n",
       "      <th>previous</th>\n",
       "      <th>y</th>\n",
       "      <th>month_code</th>\n",
       "      <th>job_admin.</th>\n",
       "      <th>job_blue-collar</th>\n",
       "      <th>job_entrepreneur</th>\n",
       "      <th>job_housemaid</th>\n",
       "      <th>job_management</th>\n",
       "      <th>job_retired</th>\n",
       "      <th>job_self-employed</th>\n",
       "      <th>job_services</th>\n",
       "      <th>job_student</th>\n",
       "      <th>job_technician</th>\n",
       "      <th>job_unemployed</th>\n",
       "      <th>job_unknown</th>\n",
       "      <th>marital_divorced</th>\n",
       "      <th>marital_married</th>\n",
       "      <th>marital_single</th>\n",
       "      <th>education_primary</th>\n",
       "      <th>education_secondary</th>\n",
       "      <th>education_tertiary</th>\n",
       "      <th>education_unknown</th>\n",
       "      <th>contact_cellular</th>\n",
       "      <th>contact_telephone</th>\n",
       "      <th>contact_unknown</th>\n",
       "      <th>poutcome_failure</th>\n",
       "      <th>poutcome_other</th>\n",
       "      <th>poutcome_success</th>\n",
       "      <th>poutcome_unknown</th>\n",
       "      <th>age_scaled</th>\n",
       "      <th>balance_scaled</th>\n",
       "      <th>day_scaled</th>\n",
       "      <th>duration_scaled</th>\n",
       "      <th>pdays_scaled</th>\n",
       "      <th>month_scaled</th>\n",
       "      <th>previous_scaled</th>\n",
       "      <th>campaign_scaled</th>\n",
       "    </tr>\n",
       "  </thead>\n",
       "  <tbody>\n",
       "    <tr>\n",
       "      <th>0</th>\n",
       "      <td>30</td>\n",
       "      <td>0</td>\n",
       "      <td>1787</td>\n",
       "      <td>0</td>\n",
       "      <td>0</td>\n",
       "      <td>19</td>\n",
       "      <td>oct</td>\n",
       "      <td>79</td>\n",
       "      <td>1</td>\n",
       "      <td>-1</td>\n",
       "      <td>0</td>\n",
       "      <td>0</td>\n",
       "      <td>9</td>\n",
       "      <td>0</td>\n",
       "      <td>0</td>\n",
       "      <td>0</td>\n",
       "      <td>0</td>\n",
       "      <td>0</td>\n",
       "      <td>0</td>\n",
       "      <td>0</td>\n",
       "      <td>0</td>\n",
       "      <td>0</td>\n",
       "      <td>0</td>\n",
       "      <td>1</td>\n",
       "      <td>0</td>\n",
       "      <td>0</td>\n",
       "      <td>1</td>\n",
       "      <td>0</td>\n",
       "      <td>1</td>\n",
       "      <td>0</td>\n",
       "      <td>0</td>\n",
       "      <td>0</td>\n",
       "      <td>1</td>\n",
       "      <td>0</td>\n",
       "      <td>0</td>\n",
       "      <td>0</td>\n",
       "      <td>0</td>\n",
       "      <td>0</td>\n",
       "      <td>1</td>\n",
       "      <td>-1.029906</td>\n",
       "      <td>0.139496</td>\n",
       "      <td>0.383734</td>\n",
       "      <td>-0.695712</td>\n",
       "      <td>-0.411453</td>\n",
       "      <td>1.601052</td>\n",
       "      <td>-0.251940</td>\n",
       "      <td>-0.569351</td>\n",
       "    </tr>\n",
       "    <tr>\n",
       "      <th>1</th>\n",
       "      <td>33</td>\n",
       "      <td>0</td>\n",
       "      <td>4789</td>\n",
       "      <td>1</td>\n",
       "      <td>1</td>\n",
       "      <td>11</td>\n",
       "      <td>may</td>\n",
       "      <td>220</td>\n",
       "      <td>1</td>\n",
       "      <td>339</td>\n",
       "      <td>4</td>\n",
       "      <td>0</td>\n",
       "      <td>4</td>\n",
       "      <td>0</td>\n",
       "      <td>0</td>\n",
       "      <td>0</td>\n",
       "      <td>0</td>\n",
       "      <td>0</td>\n",
       "      <td>0</td>\n",
       "      <td>0</td>\n",
       "      <td>1</td>\n",
       "      <td>0</td>\n",
       "      <td>0</td>\n",
       "      <td>0</td>\n",
       "      <td>0</td>\n",
       "      <td>0</td>\n",
       "      <td>1</td>\n",
       "      <td>0</td>\n",
       "      <td>0</td>\n",
       "      <td>1</td>\n",
       "      <td>0</td>\n",
       "      <td>0</td>\n",
       "      <td>1</td>\n",
       "      <td>0</td>\n",
       "      <td>0</td>\n",
       "      <td>1</td>\n",
       "      <td>0</td>\n",
       "      <td>0</td>\n",
       "      <td>0</td>\n",
       "      <td>-0.747384</td>\n",
       "      <td>1.125461</td>\n",
       "      <td>-0.577529</td>\n",
       "      <td>-0.148192</td>\n",
       "      <td>2.984213</td>\n",
       "      <td>-0.475354</td>\n",
       "      <td>1.484611</td>\n",
       "      <td>-0.569351</td>\n",
       "    </tr>\n",
       "  </tbody>\n",
       "</table>\n",
       "</div>"
      ],
      "text/plain": [
       "   age  default  balance  housing  loan  day month  duration  campaign  pdays  \\\n",
       "0   30        0     1787        0     0   19   oct        79         1     -1   \n",
       "1   33        0     4789        1     1   11   may       220         1    339   \n",
       "\n",
       "   previous  y  month_code  job_admin.  job_blue-collar  job_entrepreneur  \\\n",
       "0         0  0           9           0                0                 0   \n",
       "1         4  0           4           0                0                 0   \n",
       "\n",
       "   job_housemaid  job_management  job_retired  job_self-employed  \\\n",
       "0              0               0            0                  0   \n",
       "1              0               0            0                  0   \n",
       "\n",
       "   job_services  job_student  job_technician  job_unemployed  job_unknown  \\\n",
       "0             0            0               0               1            0   \n",
       "1             1            0               0               0            0   \n",
       "\n",
       "   marital_divorced  marital_married  marital_single  education_primary  \\\n",
       "0                 0                1               0                  1   \n",
       "1                 0                1               0                  0   \n",
       "\n",
       "   education_secondary  education_tertiary  education_unknown  \\\n",
       "0                    0                   0                  0   \n",
       "1                    1                   0                  0   \n",
       "\n",
       "   contact_cellular  contact_telephone  contact_unknown  poutcome_failure  \\\n",
       "0                 1                  0                0                 0   \n",
       "1                 1                  0                0                 1   \n",
       "\n",
       "   poutcome_other  poutcome_success  poutcome_unknown  age_scaled  \\\n",
       "0               0                 0                 1   -1.029906   \n",
       "1               0                 0                 0   -0.747384   \n",
       "\n",
       "   balance_scaled  day_scaled  duration_scaled  pdays_scaled  month_scaled  \\\n",
       "0        0.139496    0.383734        -0.695712     -0.411453      1.601052   \n",
       "1        1.125461   -0.577529        -0.148192      2.984213     -0.475354   \n",
       "\n",
       "   previous_scaled  campaign_scaled  \n",
       "0        -0.251940        -0.569351  \n",
       "1         1.484611        -0.569351  "
      ]
     },
     "execution_count": 198,
     "metadata": {},
     "output_type": "execute_result"
    }
   ],
   "source": [
    "inferencia_copy_ohe.head(2)"
   ]
  },
  {
   "cell_type": "code",
   "execution_count": 199,
   "metadata": {},
   "outputs": [],
   "source": [
    "completo_inferencia = inferencia_copy_ohe.copy()\r\n",
    "inferencia_models = inferencia_copy_ohe[['default','housing','loan', 'y','job_admin.',\r\n",
    "       'job_blue-collar', 'job_entrepreneur', 'job_housemaid',\r\n",
    "       'job_management', 'job_retired', 'job_self-employed', 'job_services',\r\n",
    "       'job_student', 'job_technician', 'job_unemployed', 'job_unknown',\r\n",
    "       'marital_divorced', 'marital_married', 'marital_single',\r\n",
    "       'education_primary', 'education_secondary', 'education_tertiary',\r\n",
    "       'education_unknown', 'contact_cellular', 'contact_telephone',\r\n",
    "       'contact_unknown', 'poutcome_failure', 'poutcome_other',\r\n",
    "       'poutcome_success', 'poutcome_unknown',\r\n",
    "       'age_scaled', 'balance_scaled',\r\n",
    "       'day_scaled', 'duration_scaled', 'pdays_scaled', 'month_scaled',\r\n",
    "       'previous_scaled', 'campaign_scaled']].copy()"
   ]
  },
  {
   "cell_type": "code",
   "execution_count": 172,
   "metadata": {},
   "outputs": [],
   "source": [
    "from sklearn.model_selection import train_test_split\r\n",
    "from sklearn.linear_model import LogisticRegression"
   ]
  },
  {
   "cell_type": "code",
   "execution_count": 211,
   "metadata": {},
   "outputs": [],
   "source": [
    "from sklearn import metrics\r\n",
    "\r\n",
    "def mostrar_metricas(y_test, y_pred):\r\n",
    "    \r\n",
    "    #Calculamos y mostramos el accuracy\r\n",
    "    acc = metrics.accuracy_score(y_test, y_pred)\r\n",
    "    print (\"Exactitud del clasificador: %.2f \" %(acc*100.0))\r\n",
    "    \r\n",
    "    #Calculamos y mostramos el F1-score\r\n",
    "    f1 = metrics.f1_score(y_test, y_pred)\r\n",
    "    print (\"F1-Score del clasificador: %.2f \" %(f1*100.0))\r\n",
    "\r\n",
    "    #Calculamos y mostramos el Recall\r\n",
    "    recall = metrics.recall_score(y_test, y_pred)\r\n",
    "    print (\"Recall del clasificador: %.2f \" %(recall*100.0))\r\n",
    "    \r\n",
    "    #Calculamos la matriz de confusión\r\n",
    "    mat = metrics.confusion_matrix(y_test, y_pred)\r\n",
    "    \r\n",
    "    #Mostramos la matriz de confusión\r\n",
    "    plt.figure(figsize=(2,2))\r\n",
    "    sns.heatmap(mat, square=True, annot=True, fmt=\"d\", cbar=False, cmap=\"Blues\")    \r\n",
    "    plt.show()"
   ]
  },
  {
   "cell_type": "code",
   "execution_count": 169,
   "metadata": {},
   "outputs": [],
   "source": [
    "X_train, X_test, y_train, y_test = train_test_split( data_models.drop('y',axis=1), data_models[['y']], test_size=0.10, random_state=422)"
   ]
  },
  {
   "cell_type": "code",
   "execution_count": 170,
   "metadata": {},
   "outputs": [
    {
     "data": {
      "text/plain": [
       "0    35924\n",
       "1     4765\n",
       "Name: y, dtype: int64"
      ]
     },
     "execution_count": 170,
     "metadata": {},
     "output_type": "execute_result"
    }
   ],
   "source": [
    "y_train.y.value_counts()"
   ]
  },
  {
   "cell_type": "code",
   "execution_count": 171,
   "metadata": {},
   "outputs": [
    {
     "data": {
      "text/plain": [
       "0    3998\n",
       "1     524\n",
       "Name: y, dtype: int64"
      ]
     },
     "execution_count": 171,
     "metadata": {},
     "output_type": "execute_result"
    }
   ],
   "source": [
    "y_test.y.value_counts()"
   ]
  },
  {
   "cell_type": "code",
   "execution_count": 176,
   "metadata": {},
   "outputs": [
    {
     "name": "stderr",
     "output_type": "stream",
     "text": [
      "C:\\Users\\Santiago.gonzalez\\AppData\\Roaming\\Python\\Python38\\site-packages\\sklearn\\utils\\validation.py:63: DataConversionWarning: A column-vector y was passed when a 1d array was expected. Please change the shape of y to (n_samples, ), for example using ravel().\n",
      "  return f(*args, **kwargs)\n",
      "C:\\Users\\Santiago.gonzalez\\AppData\\Roaming\\Python\\Python38\\site-packages\\sklearn\\linear_model\\_logistic.py:763: ConvergenceWarning: lbfgs failed to converge (status=1):\n",
      "STOP: TOTAL NO. of ITERATIONS REACHED LIMIT.\n",
      "\n",
      "Increase the number of iterations (max_iter) or scale the data as shown in:\n",
      "    https://scikit-learn.org/stable/modules/preprocessing.html\n",
      "Please also refer to the documentation for alternative solver options:\n",
      "    https://scikit-learn.org/stable/modules/linear_model.html#logistic-regression\n",
      "  n_iter_i = _check_optimize_result(\n"
     ]
    }
   ],
   "source": [
    "lr = LogisticRegression(random_state=422).fit(X_train, y_train)"
   ]
  },
  {
   "cell_type": "code",
   "execution_count": 179,
   "metadata": {},
   "outputs": [],
   "source": [
    "y_train_pred = lr.predict(X_train)\r\n",
    "y_test_pred = lr.predict(X_test) "
   ]
  },
  {
   "cell_type": "code",
   "execution_count": 232,
   "metadata": {},
   "outputs": [
    {
     "name": "stdout",
     "output_type": "stream",
     "text": [
      "Exactitud del clasificador: 90.03 \n",
      "F1-Score del clasificador: 43.11 \n",
      "Recall del clasificador: 32.26 \n"
     ]
    },
    {
     "data": {
      "image/png": "[encoded data removed]",
      "text/plain": [
       "<Figure size 144x144 with 1 Axes>"
      ]
     },
     "metadata": {
      "needs_background": "light"
     },
     "output_type": "display_data"
    }
   ],
   "source": [
    "## MÉTRICAS EN TRAIN:\r\n",
    "mostrar_metricas(y_train,y_train_pred)"
   ]
  },
  {
   "cell_type": "code",
   "execution_count": 233,
   "metadata": {},
   "outputs": [
    {
     "name": "stdout",
     "output_type": "stream",
     "text": [
      "Exactitud del clasificador: 89.94 \n",
      "F1-Score del clasificador: 43.05 \n",
      "Recall del clasificador: 32.82 \n"
     ]
    },
    {
     "data": {
      "image/png": "[encoded data removed]",
      "text/plain": [
       "<Figure size 144x144 with 1 Axes>"
      ]
     },
     "metadata": {
      "needs_background": "light"
     },
     "output_type": "display_data"
    }
   ],
   "source": [
    "## MÉTRICAS EN TEST:\r\n",
    "mostrar_metricas(y_test,y_test_pred,)"
   ]
  },
  {
   "cell_type": "code",
   "execution_count": 217,
   "metadata": {},
   "outputs": [],
   "source": [
    "### INFERENCIA:\r\n",
    "y_inf = lr.predict(inferencia_models.drop('y',axis=1))\r\n"
   ]
  },
  {
   "cell_type": "code",
   "execution_count": 234,
   "metadata": {},
   "outputs": [
    {
     "name": "stdout",
     "output_type": "stream",
     "text": [
      "Exactitud del clasificador: 90.00 \n",
      "F1-Score del clasificador: 40.53 \n",
      "Recall del clasificador: 29.56 \n"
     ]
    },
    {
     "data": {
      "image/png": "[encoded data removed]",
      "text/plain": [
       "<Figure size 144x144 with 1 Axes>"
      ]
     },
     "metadata": {
      "needs_background": "light"
     },
     "output_type": "display_data"
    }
   ],
   "source": [
    "mostrar_metricas(inferencia_models.y,y_inf,)"
   ]
  },
  {
   "cell_type": "markdown",
   "metadata": {},
   "source": [
    "import pickle\r\n",
    "filename = 'lr_model_goosdsd.sav'\r\n",
    "pickle.dump(lr, open(filename, 'wb'))"
   ]
  },
  {
   "cell_type": "code",
   "execution_count": 237,
   "metadata": {},
   "outputs": [
    {
     "name": "stdout",
     "output_type": "stream",
     "text": [
      "\n",
      "\n",
      "Entrenando el clasificador:  LDA\n",
      "Exactitud del clasificador: 90.03 \n",
      "F1-Score del clasificador: 47.74 \n",
      "Recall del clasificador: 39.31 \n"
     ]
    },
    {
     "name": "stderr",
     "output_type": "stream",
     "text": [
      "C:\\Users\\Santiago.gonzalez\\AppData\\Roaming\\Python\\Python38\\site-packages\\sklearn\\utils\\validation.py:63: DataConversionWarning: A column-vector y was passed when a 1d array was expected. Please change the shape of y to (n_samples, ), for example using ravel().\n",
      "  return f(*args, **kwargs)\n"
     ]
    },
    {
     "data": {
      "image/png": "[encoded data removed]",
      "text/plain": [
       "<Figure size 144x144 with 1 Axes>"
      ]
     },
     "metadata": {
      "needs_background": "light"
     },
     "output_type": "display_data"
    },
    {
     "name": "stdout",
     "output_type": "stream",
     "text": [
      "\n",
      "\n",
      "Entrenando el clasificador:  KNN\n"
     ]
    },
    {
     "name": "stderr",
     "output_type": "stream",
     "text": [
      "C:\\Users\\Santiago.gonzalez\\AppData\\Roaming\\Python\\Python38\\site-packages\\sklearn\\neighbors\\_classification.py:179: DataConversionWarning: A column-vector y was passed when a 1d array was expected. Please change the shape of y to (n_samples,), for example using ravel().\n",
      "  return self._fit(X, y)\n"
     ]
    },
    {
     "name": "stdout",
     "output_type": "stream",
     "text": [
      "Exactitud del clasificador: 89.98 \n",
      "F1-Score del clasificador: 45.49 \n",
      "Recall del clasificador: 36.07 \n"
     ]
    },
    {
     "data": {
      "image/png": "[encoded data removed]",
      "text/plain": [
       "<Figure size 144x144 with 1 Axes>"
      ]
     },
     "metadata": {
      "needs_background": "light"
     },
     "output_type": "display_data"
    },
    {
     "name": "stdout",
     "output_type": "stream",
     "text": [
      "\n",
      "\n",
      "Entrenando el clasificador:  Decision Tree\n",
      "Exactitud del clasificador: 88.26 \n",
      "F1-Score del clasificador: 48.89 \n",
      "Recall del clasificador: 48.47 \n"
     ]
    },
    {
     "data": {
      "image/png": "[encoded data removed]",
      "text/plain": [
       "<Figure size 144x144 with 1 Axes>"
      ]
     },
     "metadata": {
      "needs_background": "light"
     },
     "output_type": "display_data"
    },
    {
     "name": "stdout",
     "output_type": "stream",
     "text": [
      "\n",
      "\n",
      "Entrenando el clasificador:  LOGISTIC REGRESSOR\n"
     ]
    },
    {
     "name": "stderr",
     "output_type": "stream",
     "text": [
      "C:\\Users\\Santiago.gonzalez\\AppData\\Roaming\\Python\\Python38\\site-packages\\sklearn\\utils\\validation.py:63: DataConversionWarning: A column-vector y was passed when a 1d array was expected. Please change the shape of y to (n_samples, ), for example using ravel().\n",
      "  return f(*args, **kwargs)\n"
     ]
    },
    {
     "name": "stdout",
     "output_type": "stream",
     "text": [
      "Exactitud del clasificador: 89.94 \n",
      "F1-Score del clasificador: 43.05 \n",
      "Recall del clasificador: 32.82 \n"
     ]
    },
    {
     "name": "stderr",
     "output_type": "stream",
     "text": [
      "C:\\Users\\Santiago.gonzalez\\AppData\\Roaming\\Python\\Python38\\site-packages\\sklearn\\linear_model\\_logistic.py:763: ConvergenceWarning: lbfgs failed to converge (status=1):\n",
      "STOP: TOTAL NO. of ITERATIONS REACHED LIMIT.\n",
      "\n",
      "Increase the number of iterations (max_iter) or scale the data as shown in:\n",
      "    https://scikit-learn.org/stable/modules/preprocessing.html\n",
      "Please also refer to the documentation for alternative solver options:\n",
      "    https://scikit-learn.org/stable/modules/linear_model.html#logistic-regression\n",
      "  n_iter_i = _check_optimize_result(\n"
     ]
    },
    {
     "data": {
      "image/png": "[encoded data removed]",
      "text/plain": [
       "<Figure size 144x144 with 1 Axes>"
      ]
     },
     "metadata": {
      "needs_background": "light"
     },
     "output_type": "display_data"
    },
    {
     "name": "stderr",
     "output_type": "stream",
     "text": [
      "C:\\Users\\Santiago.gonzalez\\AppData\\Roaming\\Python\\Python38\\site-packages\\sklearn\\utils\\validation.py:63: DataConversionWarning: A column-vector y was passed when a 1d array was expected. Please change the shape of y to (n_samples, ), for example using ravel().\n",
      "  return f(*args, **kwargs)\n"
     ]
    },
    {
     "name": "stdout",
     "output_type": "stream",
     "text": [
      "\n",
      "\n",
      "Entrenando el clasificador:  XGNBOOST\n",
      "Exactitud del clasificador: 90.62 \n",
      "F1-Score del clasificador: 50.35 \n",
      "Recall del clasificador: 41.03 \n"
     ]
    },
    {
     "data": {
      "image/png": "[encoded data removed]",
      "text/plain": [
       "<Figure size 144x144 with 1 Axes>"
      ]
     },
     "metadata": {
      "needs_background": "light"
     },
     "output_type": "display_data"
    }
   ],
   "source": [
    "from sklearn import tree\r\n",
    "from sklearn import neighbors  \r\n",
    "from sklearn import discriminant_analysis\r\n",
    "from sklearn.ensemble import GradientBoostingClassifier\r\n",
    "#Definimos algunos clasificadores tradicionales para analizar su desempeño\r\n",
    "clfs = []\r\n",
    "clfs.append(('LDA', discriminant_analysis.LinearDiscriminantAnalysis()))\r\n",
    "clfs.append(('KNN', neighbors.KNeighborsClassifier(n_neighbors=5)))\r\n",
    "clfs.append(('Decision Tree', tree.DecisionTreeClassifier()))\r\n",
    "clfs.append(('LOGISTIC REGRESSOR', LogisticRegression()))\r\n",
    "clfs.append(('XGNBOOST', GradientBoostingClassifier()))\r\n",
    "\r\n",
    "for name, model in clfs:\r\n",
    "    \r\n",
    "    print(\"\\n\\nEntrenando el clasificador: \", name)\r\n",
    "    \r\n",
    "    #Entrenamos el modelo\r\n",
    "    model.fit(X_train, y_train)\r\n",
    "    \r\n",
    "    #Evaluamos el modelo\r\n",
    "    y_pred = model.predict(X_test)\r\n",
    "    \r\n",
    "    #Mostramos las métricas del clasificador\r\n",
    "    mostrar_metricas(y_test, y_pred)"
   ]
  },
  {
   "cell_type": "code",
   "execution_count": null,
   "metadata": {},
   "outputs": [],
   "source": [
    "#TAREA\n",
    "#1. Aplicar Label Encoder a las variables con 'yes' y 'no'\n",
    "#2. Aplicar Label Encoder al colegio, donde unknown = 0\n",
    "#2. Aplicar One Hot Encoder a las demás"
   ]
  },
  {
   "cell_type": "code",
   "execution_count": 243,
   "metadata": {},
   "outputs": [
    {
     "data": {
      "text/plain": [
       "PCA(n_components=0.99)"
      ]
     },
     "execution_count": 243,
     "metadata": {},
     "output_type": "execute_result"
    }
   ],
   "source": [
    "import numpy as np\r\n",
    "from sklearn.decomposition import PCA\r\n",
    "pca = PCA(n_components=0.99)\r\n",
    "pca.fit(data_models.drop('y',axis=1))"
   ]
  },
  {
   "cell_type": "code",
   "execution_count": 244,
   "metadata": {},
   "outputs": [
    {
     "data": {
      "text/plain": [
       "(45211, 27)"
      ]
     },
     "execution_count": 244,
     "metadata": {},
     "output_type": "execute_result"
    }
   ],
   "source": [
    "pca.transform(data_models.drop('y',axis=1)).shape"
   ]
  },
  {
   "cell_type": "code",
   "execution_count": null,
   "metadata": {},
   "outputs": [],
   "source": []
  },
  {
   "cell_type": "code",
   "execution_count": null,
   "metadata": {},
   "outputs": [],
   "source": []
  },
  {
   "cell_type": "code",
   "execution_count": null,
   "metadata": {},
   "outputs": [],
   "source": []
  },
  {
   "cell_type": "markdown",
   "metadata": {},
   "source": [
    "# Presentación de resultados"
   ]
  },
  {
   "cell_type": "code",
   "execution_count": null,
   "metadata": {},
   "outputs": [],
   "source": []
  },
  {
   "cell_type": "markdown",
   "metadata": {},
   "source": [
    "# Análisis y conclusiones"
   ]
  }
 ],
 "metadata": {
  "interpreter": {
   "hash": "72ee67a8efce80431d3fff32d20b03de61bb424cfcb92e6c3483ba1784c59fe6"
  },
  "kernelspec": {
   "display_name": "Python 3.8.5 64-bit ('base': conda)",
   "name": "python3"
  },
  "language_info": {
   "codemirror_mode": {
    "name": "ipython",
    "version": 3
   },
   "file_extension": ".py",
   "mimetype": "text/x-python",
   "name": "python",
   "nbconvert_exporter": "python",
   "pygments_lexer": "ipython3",
   "version": "3.8.5"
  }
 },
 "nbformat": 4,
 "nbformat_minor": 5
}