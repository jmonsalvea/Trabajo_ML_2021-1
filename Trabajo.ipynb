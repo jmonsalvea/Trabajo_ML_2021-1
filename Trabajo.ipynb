{
 "cells": [
  {
   "cell_type": "code",
   "execution_count": 3,
   "id": "7fb86ac1",
   "metadata": {},
   "outputs": [],
   "source": [
    "import pandas as pd"
   ]
  },
  {
   "source": [
    "* 1 - age (numeric)\n",
    "* 2 - job : type of job (categorical: \"admin.\",\"unknown\",\"unemployed\",\"management\",\"housemaid\",\"entrepreneur\",\"student\",\n",
    " \"blue-collar\",\"self-employed\",\"retired\",\"technician\",\"services\")\n",
    "* 3 - marital : marital status (categorical: \"married\",\"divorced\",\"single\"; note: \"divorced\" means divorced or widowed)\n",
    "* 4 - education (categorical: \"unknown\",\"secondary\",\"primary\",\"tertiary\")\n",
    "* 5 - default: has credit in default? (binary: \"yes\",\"no\")\n",
    "* 6 - balance: average yearly balance, in euros (numeric)\n",
    "* 7 - housing: has housing loan? (binary: \"yes\",\"no\")\n",
    "* 8 - loan: has personal loan? (binary: \"yes\",\"no\")\n",
    " # related with the last contact of the current campaign:\n",
    "* 9 - contact: contact communication type (categorical: \"unknown\",\"telephone\",\"cellular\")\n",
    "* 10 - day: last contact day of the month (numeric)\n",
    "* 11 - month: last contact month of year (categorical: \"jan\", \"feb\", \"mar\", …, \"nov\", \"dec\")\n",
    "* 12 - duration: last contact duration, in seconds (numeric)\n",
    " # other attributes:\n",
    "* 13 - campaign: number of contacts performed during this campaign and for this client (numeric, includes last contact)\n",
    "* 14 - pdays: number of days that passed by after the client was last contacted from a previous campaign (numeric, -1 means client was not previously contacted)\n",
    "* 15 - previous: number of contacts performed before this campaign and for this client (numeric)\n",
    "* 16 - poutcome: outcome of the previous marketing campaign (categorical: \"unknown\",\"other\",\"failure\",\"success\")\n",
    " \n",
    "* Output variable (desired target):\n",
    "* 17 - y - has the client subscribed a term deposit? (binary: \"yes\",\"no\")\n",
    " \n",
    "* Missing Attribute Values: None"
   ],
   "cell_type": "markdown",
   "metadata": {}
  },
  {
   "source": [
    "# CONTEXTO\n",
    "\n",
    "### Origen de los datos:\n",
    "* Los datos fueron extraidos de kaggle.com, disponibles en el siguiente enlace: [https://www.kaggle.com/fedesoriano/stroke-prediction-dataset]\n",
    "\n",
    "### Contexto:\n",
    "* Los certificados de depósito a término definido (CDT) son una importante fuente de ingresos para un banco. Estos consisten en una inversión en efectivo que se mantiene en una institución financiera. El dinero se invierte a un tipo de interés acordado durante un periodo de tiempo fijo. Un banco tiene varios medios de difusión para vender este tipo de instrumento financiero a sus clientes, como el marketing por correo electrónico, los anuncios, el marketing telefónico y el marketing digital.\n",
    "\n",
    "* Las campañas de marketing telefónico siguen siendo una de las formas más eficaces de llegar al mercado objetivo. Sin embargo, requieren una gran inversión, ya que generalmente se terceriza el proceso de contacto, mediante grandes centros de llamadas para ejecutar las campañas. Por lo tanto, es crucial identificar de antemano a los clientes con más probabilidades de conversión para poder dirigirse específicamente a ellos mediante una llamada.\n",
    "\n",
    "* Los datos están relacionados con las campañas de marketing directo (llamadas telefónicas) de una entidad bancaria portuguesa. El objetivo de la clasificación es predecir si el cliente aceptará adquirir un CDT o no.\n",
    "\n",
    "### Contenido: \n",
    "* Los datos están relacionados con las campañas de marketing directo de una institución bancaria portuguesa. Las campañas de marketing se basaban en llamadas telefónicas. A menudo, se requería más de un contacto con el mismo cliente, para dterminar si el producto (CDT) sería adquirido o no por el cliente. \n",
    "\n",
    "* El conjunto de datos está compuesto por dos subconjuntos:\n",
    "    * Conjunto de entrenamiento (train.csv).\n",
    "    * Conjunto de prueba (test.csv).\n",
    "\n",
    "| Variable  | Significado                                                                                                                                                | Tipo variable | Valores                                                                                                                                            |\n",
    "|-----------|------------------------------------------------------------------------------------------------------------------------------------------------------------|---------------|----------------------------------------------------------------------------------------------------------------------------------------------------|\n",
    "| age       | edad del cliente contactado                                                                                                                                | Numérico      |                                                                                                                                                    |\n",
    "| job       | tipo de trabajo del cliente                                                                                                                                | Categórico    | \"admin.\",\"unknown\",\"unemployed\",\"management\",\"housemaid\",\"entrepreneur\",\"student\", \"blue-collar\",\"self-employed\",\"retired\",\"technician\",\"services\" |\n",
    "| marital   | Estado civíl del cliente                                                                                                                                   | Categórico    | \"married\",\"divorced\",\"single\"; note: \"divorced\" means divorced or widowed                                                                          |\n",
    "| education | Nivel educativo del cliente                                                                                                                                | Categórico    | \"unknown\",\"secondary\",\"primary\",\"tertiary\"                                                                                                         |\n",
    "| default   | Flag si el cliente tiene crédito en mora                                                                                                                   | Binario       | \"yes\", \"no\"                                                                                                                                        |\n",
    "| balance   | Saldo promedio anual en la cuenta (euros)                                                                                                                  | Numérico      |                                                                                                                                                    |\n",
    "| Loan      | Flag si el cliente tiene algún prestamo                                                                                                                    | Binario       | \"yes\", \"no\"                                                                                                                                        |\n",
    "| housing   | Flag si el cliente tiene crédito de vivienda                                                                                                               | Binario       | \"yes\", \"no\"                                                                                                                                        |\n",
    "| contact   | Medio de contacto                                                                                                                                          | Categórico    | \"unknown\",\"telephone\",\"cellular\"                                                                                                                   |\n",
    "| day       | Día del mes en que recibió el último contacto                                                                                                              | Numérico      |                                                                                                                                                    |\n",
    "| month     | Mes en el cual recibió el último contacto                                                                                                                  | Categórico    | \"jan\", \"feb\", \"mar\", …, \"nov\", \"dec\"                                                                                                               |\n",
    "| duration  | Duración en segundos del último contacto                                                                                                                   | Numérico      |                                                                                                                                                    |\n",
    "| campaing  | Número de contactos que recibió el cliente para esta campaña. Incluido el último contacto                                                                  | Numérico      |                                                                                                                                                    |\n",
    "| pdays     | Número de días que han pasado desde la última vez que se contactó al cliente para otra campaña. -1 indica que el cliente no ha sido contactado previamente | Númerico      |                                                                                                                                                    |\n",
    "| previous  | Número de contactos realizados al cliente para esta campaña                                                                                                | Númerico      |                                                                                                                                                    |\n",
    "| poutcome  | Resultado de la última campaña                                                                                                                             | Categórico    | \"unknown\",\"other\",\"failure\",\"success\"                                                                                                              |\n",
    "| y         | Variable de respuesta sobre si el cliente acepta o no                                                                                                      | Binario       | \"yes\", \"no\"                                                                                                                                        |\n",
    "\n",
    "    \n",
    "\n"
   ],
   "cell_type": "markdown",
   "metadata": {}
  },
  {
   "source": [
    "### Cantidad:\n",
    "* train.csv: 45.211 filas y 18 columnas ordenadas por fecha (de mayo de 2008 a noviembre de 2010)\n",
    "* test.csv: 4521 filas y 18 columnas con el 10% de los ejemplos (4521), seleccionados aleatoriamente de train.csv"
   ],
   "cell_type": "markdown",
   "metadata": {}
  },
  {
   "source": [
    "# 1. LECTURA Y ENTENDIMIENTO DE DATOS"
   ],
   "cell_type": "markdown",
   "metadata": {}
  },
  {
   "cell_type": "code",
   "execution_count": 4,
   "metadata": {},
   "outputs": [],
   "source": [
    "banking = pd.read_csv(\"/home/gonza/ESPECIALIZACIÓN/APRENDIZAJE_MAQUINAS/Trabajo_ML_2021-1/Banking/train.csv\",sep=\";\")"
   ]
  },
  {
   "cell_type": "code",
   "execution_count": 7,
   "metadata": {},
   "outputs": [
    {
     "output_type": "execute_result",
     "data": {
      "text/plain": [
       "   age           job  marital  education default  balance housing loan  \\\n",
       "0   58    management  married   tertiary      no     2143     yes   no   \n",
       "1   44    technician   single  secondary      no       29     yes   no   \n",
       "2   33  entrepreneur  married  secondary      no        2     yes  yes   \n",
       "3   47   blue-collar  married    unknown      no     1506     yes   no   \n",
       "4   33       unknown   single    unknown      no        1      no   no   \n",
       "\n",
       "   contact  day month  duration  campaign  pdays  previous poutcome   y  \n",
       "0  unknown    5   may       261         1     -1         0  unknown  no  \n",
       "1  unknown    5   may       151         1     -1         0  unknown  no  \n",
       "2  unknown    5   may        76         1     -1         0  unknown  no  \n",
       "3  unknown    5   may        92         1     -1         0  unknown  no  \n",
       "4  unknown    5   may       198         1     -1         0  unknown  no  "
      ],
      "text/html": "<div>\n<style scoped>\n    .dataframe tbody tr th:only-of-type {\n        vertical-align: middle;\n    }\n\n    .dataframe tbody tr th {\n        vertical-align: top;\n    }\n\n    .dataframe thead th {\n        text-align: right;\n    }\n</style>\n<table border=\"1\" class=\"dataframe\">\n  <thead>\n    <tr style=\"text-align: right;\">\n      <th></th>\n      <th>age</th>\n      <th>job</th>\n      <th>marital</th>\n      <th>education</th>\n      <th>default</th>\n      <th>balance</th>\n      <th>housing</th>\n      <th>loan</th>\n      <th>contact</th>\n      <th>day</th>\n      <th>month</th>\n      <th>duration</th>\n      <th>campaign</th>\n      <th>pdays</th>\n      <th>previous</th>\n      <th>poutcome</th>\n      <th>y</th>\n    </tr>\n  </thead>\n  <tbody>\n    <tr>\n      <th>0</th>\n      <td>58</td>\n      <td>management</td>\n      <td>married</td>\n      <td>tertiary</td>\n      <td>no</td>\n      <td>2143</td>\n      <td>yes</td>\n      <td>no</td>\n      <td>unknown</td>\n      <td>5</td>\n      <td>may</td>\n      <td>261</td>\n      <td>1</td>\n      <td>-1</td>\n      <td>0</td>\n      <td>unknown</td>\n      <td>no</td>\n    </tr>\n    <tr>\n      <th>1</th>\n      <td>44</td>\n      <td>technician</td>\n      <td>single</td>\n      <td>secondary</td>\n      <td>no</td>\n      <td>29</td>\n      <td>yes</td>\n      <td>no</td>\n      <td>unknown</td>\n      <td>5</td>\n      <td>may</td>\n      <td>151</td>\n      <td>1</td>\n      <td>-1</td>\n      <td>0</td>\n      <td>unknown</td>\n      <td>no</td>\n    </tr>\n    <tr>\n      <th>2</th>\n      <td>33</td>\n      <td>entrepreneur</td>\n      <td>married</td>\n      <td>secondary</td>\n      <td>no</td>\n      <td>2</td>\n      <td>yes</td>\n      <td>yes</td>\n      <td>unknown</td>\n      <td>5</td>\n      <td>may</td>\n      <td>76</td>\n      <td>1</td>\n      <td>-1</td>\n      <td>0</td>\n      <td>unknown</td>\n      <td>no</td>\n    </tr>\n    <tr>\n      <th>3</th>\n      <td>47</td>\n      <td>blue-collar</td>\n      <td>married</td>\n      <td>unknown</td>\n      <td>no</td>\n      <td>1506</td>\n      <td>yes</td>\n      <td>no</td>\n      <td>unknown</td>\n      <td>5</td>\n      <td>may</td>\n      <td>92</td>\n      <td>1</td>\n      <td>-1</td>\n      <td>0</td>\n      <td>unknown</td>\n      <td>no</td>\n    </tr>\n    <tr>\n      <th>4</th>\n      <td>33</td>\n      <td>unknown</td>\n      <td>single</td>\n      <td>unknown</td>\n      <td>no</td>\n      <td>1</td>\n      <td>no</td>\n      <td>no</td>\n      <td>unknown</td>\n      <td>5</td>\n      <td>may</td>\n      <td>198</td>\n      <td>1</td>\n      <td>-1</td>\n      <td>0</td>\n      <td>unknown</td>\n      <td>no</td>\n    </tr>\n  </tbody>\n</table>\n</div>"
     },
     "metadata": {},
     "execution_count": 7
    }
   ],
   "source": [
    "banking.head()"
   ]
  },
  {
   "cell_type": "code",
   "execution_count": 26,
   "metadata": {},
   "outputs": [
    {
     "output_type": "execute_result",
     "data": {
      "text/plain": [
       "       age           job  marital  education default  balance housing loan  \\\n",
       "24060   33        admin.  married   tertiary      no      882      no   no   \n",
       "24062   42        admin.   single  secondary      no     -247     yes  yes   \n",
       "24064   33      services  married  secondary      no     3444     yes   no   \n",
       "24072   36    management  married   tertiary      no     2415     yes   no   \n",
       "24077   36    management  married   tertiary      no        0     yes   no   \n",
       "...    ...           ...      ...        ...     ...      ...     ...  ...   \n",
       "45199   34   blue-collar   single  secondary      no     1475     yes   no   \n",
       "45201   53    management  married   tertiary      no      583      no   no   \n",
       "45204   73       retired  married  secondary      no     2850      no   no   \n",
       "45208   72       retired  married  secondary      no     5715      no   no   \n",
       "45210   37  entrepreneur  married  secondary      no     2971      no   no   \n",
       "\n",
       "         contact  day month  duration  campaign  pdays  previous poutcome    y  \n",
       "24060  telephone   21   oct        39         1    151         3  failure   no  \n",
       "24062  telephone   21   oct       519         1    166         1    other  yes  \n",
       "24064  telephone   21   oct       144         1     91         4  failure  yes  \n",
       "24072  telephone   22   oct        73         1     86         4    other   no  \n",
       "24077  telephone   23   oct       140         1    143         3  failure  yes  \n",
       "...          ...  ...   ...       ...       ...    ...       ...      ...  ...  \n",
       "45199   cellular   16   nov      1166         3    530        12    other   no  \n",
       "45201   cellular   17   nov       226         1    184         4  success  yes  \n",
       "45204   cellular   17   nov       300         1     40         8  failure  yes  \n",
       "45208   cellular   17   nov      1127         5    184         3  success  yes  \n",
       "45210   cellular   17   nov       361         2    188        11    other   no  \n",
       "\n",
       "[8257 rows x 17 columns]"
      ],
      "text/html": "<div>\n<style scoped>\n    .dataframe tbody tr th:only-of-type {\n        vertical-align: middle;\n    }\n\n    .dataframe tbody tr th {\n        vertical-align: top;\n    }\n\n    .dataframe thead th {\n        text-align: right;\n    }\n</style>\n<table border=\"1\" class=\"dataframe\">\n  <thead>\n    <tr style=\"text-align: right;\">\n      <th></th>\n      <th>age</th>\n      <th>job</th>\n      <th>marital</th>\n      <th>education</th>\n      <th>default</th>\n      <th>balance</th>\n      <th>housing</th>\n      <th>loan</th>\n      <th>contact</th>\n      <th>day</th>\n      <th>month</th>\n      <th>duration</th>\n      <th>campaign</th>\n      <th>pdays</th>\n      <th>previous</th>\n      <th>poutcome</th>\n      <th>y</th>\n    </tr>\n  </thead>\n  <tbody>\n    <tr>\n      <th>24060</th>\n      <td>33</td>\n      <td>admin.</td>\n      <td>married</td>\n      <td>tertiary</td>\n      <td>no</td>\n      <td>882</td>\n      <td>no</td>\n      <td>no</td>\n      <td>telephone</td>\n      <td>21</td>\n      <td>oct</td>\n      <td>39</td>\n      <td>1</td>\n      <td>151</td>\n      <td>3</td>\n      <td>failure</td>\n      <td>no</td>\n    </tr>\n    <tr>\n      <th>24062</th>\n      <td>42</td>\n      <td>admin.</td>\n      <td>single</td>\n      <td>secondary</td>\n      <td>no</td>\n      <td>-247</td>\n      <td>yes</td>\n      <td>yes</td>\n      <td>telephone</td>\n      <td>21</td>\n      <td>oct</td>\n      <td>519</td>\n      <td>1</td>\n      <td>166</td>\n      <td>1</td>\n      <td>other</td>\n      <td>yes</td>\n    </tr>\n    <tr>\n      <th>24064</th>\n      <td>33</td>\n      <td>services</td>\n      <td>married</td>\n      <td>secondary</td>\n      <td>no</td>\n      <td>3444</td>\n      <td>yes</td>\n      <td>no</td>\n      <td>telephone</td>\n      <td>21</td>\n      <td>oct</td>\n      <td>144</td>\n      <td>1</td>\n      <td>91</td>\n      <td>4</td>\n      <td>failure</td>\n      <td>yes</td>\n    </tr>\n    <tr>\n      <th>24072</th>\n      <td>36</td>\n      <td>management</td>\n      <td>married</td>\n      <td>tertiary</td>\n      <td>no</td>\n      <td>2415</td>\n      <td>yes</td>\n      <td>no</td>\n      <td>telephone</td>\n      <td>22</td>\n      <td>oct</td>\n      <td>73</td>\n      <td>1</td>\n      <td>86</td>\n      <td>4</td>\n      <td>other</td>\n      <td>no</td>\n    </tr>\n    <tr>\n      <th>24077</th>\n      <td>36</td>\n      <td>management</td>\n      <td>married</td>\n      <td>tertiary</td>\n      <td>no</td>\n      <td>0</td>\n      <td>yes</td>\n      <td>no</td>\n      <td>telephone</td>\n      <td>23</td>\n      <td>oct</td>\n      <td>140</td>\n      <td>1</td>\n      <td>143</td>\n      <td>3</td>\n      <td>failure</td>\n      <td>yes</td>\n    </tr>\n    <tr>\n      <th>...</th>\n      <td>...</td>\n      <td>...</td>\n      <td>...</td>\n      <td>...</td>\n      <td>...</td>\n      <td>...</td>\n      <td>...</td>\n      <td>...</td>\n      <td>...</td>\n      <td>...</td>\n      <td>...</td>\n      <td>...</td>\n      <td>...</td>\n      <td>...</td>\n      <td>...</td>\n      <td>...</td>\n      <td>...</td>\n    </tr>\n    <tr>\n      <th>45199</th>\n      <td>34</td>\n      <td>blue-collar</td>\n      <td>single</td>\n      <td>secondary</td>\n      <td>no</td>\n      <td>1475</td>\n      <td>yes</td>\n      <td>no</td>\n      <td>cellular</td>\n      <td>16</td>\n      <td>nov</td>\n      <td>1166</td>\n      <td>3</td>\n      <td>530</td>\n      <td>12</td>\n      <td>other</td>\n      <td>no</td>\n    </tr>\n    <tr>\n      <th>45201</th>\n      <td>53</td>\n      <td>management</td>\n      <td>married</td>\n      <td>tertiary</td>\n      <td>no</td>\n      <td>583</td>\n      <td>no</td>\n      <td>no</td>\n      <td>cellular</td>\n      <td>17</td>\n      <td>nov</td>\n      <td>226</td>\n      <td>1</td>\n      <td>184</td>\n      <td>4</td>\n      <td>success</td>\n      <td>yes</td>\n    </tr>\n    <tr>\n      <th>45204</th>\n      <td>73</td>\n      <td>retired</td>\n      <td>married</td>\n      <td>secondary</td>\n      <td>no</td>\n      <td>2850</td>\n      <td>no</td>\n      <td>no</td>\n      <td>cellular</td>\n      <td>17</td>\n      <td>nov</td>\n      <td>300</td>\n      <td>1</td>\n      <td>40</td>\n      <td>8</td>\n      <td>failure</td>\n      <td>yes</td>\n    </tr>\n    <tr>\n      <th>45208</th>\n      <td>72</td>\n      <td>retired</td>\n      <td>married</td>\n      <td>secondary</td>\n      <td>no</td>\n      <td>5715</td>\n      <td>no</td>\n      <td>no</td>\n      <td>cellular</td>\n      <td>17</td>\n      <td>nov</td>\n      <td>1127</td>\n      <td>5</td>\n      <td>184</td>\n      <td>3</td>\n      <td>success</td>\n      <td>yes</td>\n    </tr>\n    <tr>\n      <th>45210</th>\n      <td>37</td>\n      <td>entrepreneur</td>\n      <td>married</td>\n      <td>secondary</td>\n      <td>no</td>\n      <td>2971</td>\n      <td>no</td>\n      <td>no</td>\n      <td>cellular</td>\n      <td>17</td>\n      <td>nov</td>\n      <td>361</td>\n      <td>2</td>\n      <td>188</td>\n      <td>11</td>\n      <td>other</td>\n      <td>no</td>\n    </tr>\n  </tbody>\n</table>\n<p>8257 rows × 17 columns</p>\n</div>"
     },
     "metadata": {},
     "execution_count": 26
    }
   ],
   "source": [
    "banking[banking.pdays >=1]"
   ]
  },
  {
   "cell_type": "code",
   "execution_count": 35,
   "metadata": {},
   "outputs": [],
   "source": [
    "a = banking.select_dtypes(\"object\").columns"
   ]
  },
  {
   "cell_type": "code",
   "execution_count": 36,
   "metadata": {},
   "outputs": [
    {
     "output_type": "stream",
     "name": "stdout",
     "text": [
      "job (288, 17)\nmarital (0, 17)\neducation (1857, 17)\ndefault (0, 17)\nhousing (0, 17)\nloan (0, 17)\ncontact (13020, 17)\nmonth (0, 17)\npoutcome (36959, 17)\ny (0, 17)\n"
     ]
    }
   ],
   "source": [
    "for i in a:\n",
    "    print(i, banking[banking[i].str.contains(\"known\")].shape)"
   ]
  },
  {
   "cell_type": "code",
   "execution_count": 20,
   "metadata": {},
   "outputs": [
    {
     "output_type": "execute_result",
     "data": {
      "text/plain": [
       "no     0.883015\n",
       "yes    0.116985\n",
       "Name: y, dtype: float64"
      ]
     },
     "metadata": {},
     "execution_count": 20
    }
   ],
   "source": [
    "banking.y.value_counts(normalize=True)"
   ]
  },
  {
   "cell_type": "code",
   "execution_count": 25,
   "metadata": {},
   "outputs": [
    {
     "output_type": "execute_result",
     "data": {
      "text/plain": [
       "0"
      ]
     },
     "metadata": {},
     "execution_count": 25
    }
   ],
   "source": [
    "banking.duration.min()"
   ]
  },
  {
   "cell_type": "code",
   "execution_count": 5,
   "metadata": {},
   "outputs": [
    {
     "output_type": "execute_result",
     "data": {
      "text/plain": [
       " 0        3514\n",
       " 1         195\n",
       " 2         156\n",
       " 4         139\n",
       " 3         134\n",
       "          ... \n",
       " 16869       1\n",
       "-467         1\n",
       " 8649        1\n",
       " 4527        1\n",
       " 3662        1\n",
       "Name: balance, Length: 7168, dtype: int64"
      ]
     },
     "metadata": {},
     "execution_count": 5
    }
   ],
   "source": [
    "banking.balance.hist"
   ]
  },
  {
   "cell_type": "code",
   "execution_count": 39,
   "metadata": {},
   "outputs": [
    {
     "output_type": "execute_result",
     "data": {
      "text/plain": [
       "       age           job   marital  education default  balance housing loan  \\\n",
       "0       58    management   married   tertiary      no     2143     yes   no   \n",
       "1       44    technician    single  secondary      no       29     yes   no   \n",
       "2       33  entrepreneur   married  secondary      no        2     yes  yes   \n",
       "3       47   blue-collar   married    unknown      no     1506     yes   no   \n",
       "4       33       unknown    single    unknown      no        1      no   no   \n",
       "...    ...           ...       ...        ...     ...      ...     ...  ...   \n",
       "45203   23       student    single   tertiary      no      113      no   no   \n",
       "45205   25    technician    single  secondary      no      505      no  yes   \n",
       "45206   51    technician   married   tertiary      no      825      no   no   \n",
       "45207   71       retired  divorced    primary      no     1729      no   no   \n",
       "45209   57   blue-collar   married  secondary      no      668      no   no   \n",
       "\n",
       "         contact  day month  duration  campaign  pdays  previous poutcome    y  \n",
       "0        unknown    5   may       261         1     -1         0  unknown   no  \n",
       "1        unknown    5   may       151         1     -1         0  unknown   no  \n",
       "2        unknown    5   may        76         1     -1         0  unknown   no  \n",
       "3        unknown    5   may        92         1     -1         0  unknown   no  \n",
       "4        unknown    5   may       198         1     -1         0  unknown   no  \n",
       "...          ...  ...   ...       ...       ...    ...       ...      ...  ...  \n",
       "45203   cellular   17   nov       266         1     -1         0  unknown  yes  \n",
       "45205   cellular   17   nov       386         2     -1         0  unknown  yes  \n",
       "45206   cellular   17   nov       977         3     -1         0  unknown  yes  \n",
       "45207   cellular   17   nov       456         2     -1         0  unknown  yes  \n",
       "45209  telephone   17   nov       508         4     -1         0  unknown   no  \n",
       "\n",
       "[36954 rows x 17 columns]"
      ],
      "text/html": "<div>\n<style scoped>\n    .dataframe tbody tr th:only-of-type {\n        vertical-align: middle;\n    }\n\n    .dataframe tbody tr th {\n        vertical-align: top;\n    }\n\n    .dataframe thead th {\n        text-align: right;\n    }\n</style>\n<table border=\"1\" class=\"dataframe\">\n  <thead>\n    <tr style=\"text-align: right;\">\n      <th></th>\n      <th>age</th>\n      <th>job</th>\n      <th>marital</th>\n      <th>education</th>\n      <th>default</th>\n      <th>balance</th>\n      <th>housing</th>\n      <th>loan</th>\n      <th>contact</th>\n      <th>day</th>\n      <th>month</th>\n      <th>duration</th>\n      <th>campaign</th>\n      <th>pdays</th>\n      <th>previous</th>\n      <th>poutcome</th>\n      <th>y</th>\n    </tr>\n  </thead>\n  <tbody>\n    <tr>\n      <th>0</th>\n      <td>58</td>\n      <td>management</td>\n      <td>married</td>\n      <td>tertiary</td>\n      <td>no</td>\n      <td>2143</td>\n      <td>yes</td>\n      <td>no</td>\n      <td>unknown</td>\n      <td>5</td>\n      <td>may</td>\n      <td>261</td>\n      <td>1</td>\n      <td>-1</td>\n      <td>0</td>\n      <td>unknown</td>\n      <td>no</td>\n    </tr>\n    <tr>\n      <th>1</th>\n      <td>44</td>\n      <td>technician</td>\n      <td>single</td>\n      <td>secondary</td>\n      <td>no</td>\n      <td>29</td>\n      <td>yes</td>\n      <td>no</td>\n      <td>unknown</td>\n      <td>5</td>\n      <td>may</td>\n      <td>151</td>\n      <td>1</td>\n      <td>-1</td>\n      <td>0</td>\n      <td>unknown</td>\n      <td>no</td>\n    </tr>\n    <tr>\n      <th>2</th>\n      <td>33</td>\n      <td>entrepreneur</td>\n      <td>married</td>\n      <td>secondary</td>\n      <td>no</td>\n      <td>2</td>\n      <td>yes</td>\n      <td>yes</td>\n      <td>unknown</td>\n      <td>5</td>\n      <td>may</td>\n      <td>76</td>\n      <td>1</td>\n      <td>-1</td>\n      <td>0</td>\n      <td>unknown</td>\n      <td>no</td>\n    </tr>\n    <tr>\n      <th>3</th>\n      <td>47</td>\n      <td>blue-collar</td>\n      <td>married</td>\n      <td>unknown</td>\n      <td>no</td>\n      <td>1506</td>\n      <td>yes</td>\n      <td>no</td>\n      <td>unknown</td>\n      <td>5</td>\n      <td>may</td>\n      <td>92</td>\n      <td>1</td>\n      <td>-1</td>\n      <td>0</td>\n      <td>unknown</td>\n      <td>no</td>\n    </tr>\n    <tr>\n      <th>4</th>\n      <td>33</td>\n      <td>unknown</td>\n      <td>single</td>\n      <td>unknown</td>\n      <td>no</td>\n      <td>1</td>\n      <td>no</td>\n      <td>no</td>\n      <td>unknown</td>\n      <td>5</td>\n      <td>may</td>\n      <td>198</td>\n      <td>1</td>\n      <td>-1</td>\n      <td>0</td>\n      <td>unknown</td>\n      <td>no</td>\n    </tr>\n    <tr>\n      <th>...</th>\n      <td>...</td>\n      <td>...</td>\n      <td>...</td>\n      <td>...</td>\n      <td>...</td>\n      <td>...</td>\n      <td>...</td>\n      <td>...</td>\n      <td>...</td>\n      <td>...</td>\n      <td>...</td>\n      <td>...</td>\n      <td>...</td>\n      <td>...</td>\n      <td>...</td>\n      <td>...</td>\n      <td>...</td>\n    </tr>\n    <tr>\n      <th>45203</th>\n      <td>23</td>\n      <td>student</td>\n      <td>single</td>\n      <td>tertiary</td>\n      <td>no</td>\n      <td>113</td>\n      <td>no</td>\n      <td>no</td>\n      <td>cellular</td>\n      <td>17</td>\n      <td>nov</td>\n      <td>266</td>\n      <td>1</td>\n      <td>-1</td>\n      <td>0</td>\n      <td>unknown</td>\n      <td>yes</td>\n    </tr>\n    <tr>\n      <th>45205</th>\n      <td>25</td>\n      <td>technician</td>\n      <td>single</td>\n      <td>secondary</td>\n      <td>no</td>\n      <td>505</td>\n      <td>no</td>\n      <td>yes</td>\n      <td>cellular</td>\n      <td>17</td>\n      <td>nov</td>\n      <td>386</td>\n      <td>2</td>\n      <td>-1</td>\n      <td>0</td>\n      <td>unknown</td>\n      <td>yes</td>\n    </tr>\n    <tr>\n      <th>45206</th>\n      <td>51</td>\n      <td>technician</td>\n      <td>married</td>\n      <td>tertiary</td>\n      <td>no</td>\n      <td>825</td>\n      <td>no</td>\n      <td>no</td>\n      <td>cellular</td>\n      <td>17</td>\n      <td>nov</td>\n      <td>977</td>\n      <td>3</td>\n      <td>-1</td>\n      <td>0</td>\n      <td>unknown</td>\n      <td>yes</td>\n    </tr>\n    <tr>\n      <th>45207</th>\n      <td>71</td>\n      <td>retired</td>\n      <td>divorced</td>\n      <td>primary</td>\n      <td>no</td>\n      <td>1729</td>\n      <td>no</td>\n      <td>no</td>\n      <td>cellular</td>\n      <td>17</td>\n      <td>nov</td>\n      <td>456</td>\n      <td>2</td>\n      <td>-1</td>\n      <td>0</td>\n      <td>unknown</td>\n      <td>yes</td>\n    </tr>\n    <tr>\n      <th>45209</th>\n      <td>57</td>\n      <td>blue-collar</td>\n      <td>married</td>\n      <td>secondary</td>\n      <td>no</td>\n      <td>668</td>\n      <td>no</td>\n      <td>no</td>\n      <td>telephone</td>\n      <td>17</td>\n      <td>nov</td>\n      <td>508</td>\n      <td>4</td>\n      <td>-1</td>\n      <td>0</td>\n      <td>unknown</td>\n      <td>no</td>\n    </tr>\n  </tbody>\n</table>\n<p>36954 rows × 17 columns</p>\n</div>"
     },
     "metadata": {},
     "execution_count": 39
    }
   ],
   "source": [
    "banking[banking.pdays==-1]"
   ]
  },
  {
   "cell_type": "code",
   "execution_count": null,
   "metadata": {},
   "outputs": [],
   "source": []
  },
  {
   "source": [
    "# Metodología:"
   ],
   "cell_type": "markdown",
   "metadata": {}
  },
  {
   "cell_type": "code",
   "execution_count": null,
   "metadata": {},
   "outputs": [],
   "source": []
  },
  {
   "source": [
    "# Presentación de resultados"
   ],
   "cell_type": "markdown",
   "metadata": {}
  },
  {
   "cell_type": "code",
   "execution_count": null,
   "metadata": {},
   "outputs": [],
   "source": []
  },
  {
   "source": [
    "# Análisis y conclusiones"
   ],
   "cell_type": "markdown",
   "metadata": {}
  }
 ],
 "metadata": {
  "kernelspec": {
   "name": "python388jvsc74a57bd0eaed9936a652ac06f9f38e957b8d11b3dc34a8e8eeb5c53f0d937c8cdaa688b0",
   "display_name": "Python 3.8.8 64-bit ('Data-Science': conda)"
  },
  "language_info": {
   "codemirror_mode": {
    "name": "ipython",
    "version": 3
   },
   "file_extension": ".py",
   "mimetype": "text/x-python",
   "name": "python",
   "nbconvert_exporter": "python",
   "pygments_lexer": "ipython3",
   "version": "3.8.8"
  }
 },
 "nbformat": 4,
 "nbformat_minor": 5
}